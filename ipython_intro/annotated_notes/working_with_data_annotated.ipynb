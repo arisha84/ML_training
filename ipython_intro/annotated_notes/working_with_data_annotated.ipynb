{
 "metadata": {
  "name": "",
  "signature": "sha256:27bdb95d742cee9335372cfb14a212549bc4dfc04b5cbb62d2d23b2cef9624f8"
 },
 "nbformat": 3,
 "nbformat_minor": 0,
 "worksheets": [
  {
   "cells": [
    {
     "cell_type": "heading",
     "level": 1,
     "metadata": {},
     "source": [
      "Dealing with Data"
     ]
    },
    {
     "cell_type": "heading",
     "level": 3,
     "metadata": {},
     "source": [
      "This is the rickety scaffolding supporting a magnificant triumphant statue."
     ]
    },
    {
     "cell_type": "heading",
     "level": 2,
     "metadata": {},
     "source": [
      "I."
     ]
    },
    {
     "cell_type": "heading",
     "level": 3,
     "metadata": {},
     "source": [
      "Let us raise a standard of respite for the wise and weary.  Observe'th the dataframe!"
     ]
    },
    {
     "cell_type": "code",
     "collapsed": false,
     "input": [
      "#we're importing two packages, numpy and pandas.\n",
      "#since we're importing them AS something, the numpy library\n",
      "#will be accessible anywhere in the rest of the code by calling np.somefunction\n",
      "#Why do we load each library seperately?  There may be some cross over.  For example the function min(1,2)\n",
      "#returns 1.  But numpy also has a function named min.  Running the min function from numpy with an input of (1,2)\n",
      "#produces an error since that function is meant to deal only with array objects.  It would be confusing to write\n",
      "#min and not know which one we were going to get.\n",
      "\n",
      "import numpy as np\n",
      "import pandas as pd"
     ],
     "language": "python",
     "metadata": {},
     "outputs": [],
     "prompt_number": 21
    },
    {
     "cell_type": "code",
     "collapsed": false,
     "input": [
      "min(1,2)"
     ],
     "language": "python",
     "metadata": {},
     "outputs": [
      {
       "metadata": {},
       "output_type": "pyout",
       "prompt_number": 22,
       "text": [
        "1"
       ]
      }
     ],
     "prompt_number": 22
    },
    {
     "cell_type": "code",
     "collapsed": false,
     "input": [
      "\"\"\"Attribute Information:\n",
      "    -- 1. #3  (age)       \n",
      "    -- 2. #4  (sex)       \n",
      "    -- 3. #9  (cp)        \n",
      "    -- 4. #10 (trestbps)  \n",
      "    -- 5. #12 (chol)      \n",
      "    -- 6. #16 (fbs)       \n",
      "    -- 7. #19 (restecg)   \n",
      "    -- 8. #32 (thalach)   \n",
      "    -- 9. #38 (exang)     \n",
      "    -- 10. #40 (oldpeak)   \n",
      "    -- 11. #41 (slope)     \n",
      "    -- 12. #44 (ca)        \n",
      "    -- 13. #51 (thal)      \n",
      "    -- 14. #58 (num)\n",
      "\"\"\"\n",
      "#this is a LIST of STRINGS.  Lists are contained in brackets.  Strings are contained in single or double quotes.\n",
      "#each item in a list is seperated by a comma.\n",
      "header_row = ['age', 'sex', 'cp', 'trestbps', 'chol', 'fbs', 'restecg', 'thalach', 'exang', 'oldpeak', 'slope', 'ca', 'thal', 'num',]\n",
      "#url is a string object.  We could figure it out by running type(url)\n",
      "url = 'http://archive.ics.uci.edu/ml/machine-learning-databases/heart-disease/processed.cleveland.data'\n",
      "#data frames are the work horse of dataanalysis.  In this line we're calling the 'read_csv' function from the pandas library\n",
      "#and passing it three inputs: url, header, and na_values.\n",
      "#heart_data = pd.read_csv(url) would run fine\n",
      "#if we did this header and na_values would be set to their DEFAULT values.  But by explicitely writting them we override\n",
      "#those values in order to get the function to do what we want it to do\n",
      "heart_data = pd.read_csv(url, header=0, na_values='?')\n",
      "#since we said above that header=0 we told the function that unlike a nicely structured comma seperated file (csv) this data\n",
      "#doesn't have the first row as a list of variable names.  Because it's not there we have to set the column names manually\n",
      "#ourself.  heart_data is a data frame object.  'columns' is an attribute of the object.  Attributes are accessible with a dot.\n",
      "#for example .__name__ is the name of a function, .__repr__ is the string representation of any object.  These are internal\n",
      "#variables that you won't need to change, but it's good to know that every object, even functions have attributes.\n",
      "#This is what we mean when we say Python is an object-oriented language.  Everything is an object and most objects have\n",
      "#repetive operations that can be performed on them.  Type(obj) gives the name of the object in question.\n",
      "heart_data.columns = header_row"
     ],
     "language": "python",
     "metadata": {},
     "outputs": [],
     "prompt_number": 23
    },
    {
     "cell_type": "code",
     "collapsed": false,
     "input": [
      "type(header_row)\n",
      "type(url) # why does only one thing print from this?  Because unless we specifically write \"print\" only the output from the\n",
      "#last line of code is printed."
     ],
     "language": "python",
     "metadata": {},
     "outputs": [
      {
       "metadata": {},
       "output_type": "pyout",
       "prompt_number": 24,
       "text": [
        "str"
       ]
      }
     ],
     "prompt_number": 24
    },
    {
     "cell_type": "code",
     "collapsed": false,
     "input": [
      "type(heart_data)"
     ],
     "language": "python",
     "metadata": {},
     "outputs": [
      {
       "metadata": {},
       "output_type": "pyout",
       "prompt_number": 25,
       "text": [
        "pandas.core.frame.DataFrame"
       ]
      }
     ],
     "prompt_number": 25
    },
    {
     "cell_type": "code",
     "collapsed": false,
     "input": [
      "print heart_data #print is a function.  Most functions in python are written as func(inputs) but print is special\n",
      "#we print with \"print \"string to print\"\""
     ],
     "language": "python",
     "metadata": {},
     "outputs": [
      {
       "output_type": "stream",
       "stream": "stdout",
       "text": [
        "<class 'pandas.core.frame.DataFrame'>\n",
        "Int64Index: 302 entries, 0 to 301\n",
        "Data columns (total 14 columns):\n",
        "age         302  non-null values\n",
        "sex         302  non-null values\n",
        "cp          302  non-null values\n",
        "trestbps    302  non-null values\n",
        "chol        302  non-null values\n",
        "fbs         302  non-null values\n",
        "restecg     302  non-null values\n",
        "thalach     302  non-null values\n",
        "exang       302  non-null values\n",
        "oldpeak     302  non-null values\n",
        "slope       302  non-null values\n",
        "ca          298  non-null values\n",
        "thal        300  non-null values\n",
        "num         302  non-null values\n",
        "dtypes: float64(13), int64(1)\n"
       ]
      }
     ],
     "prompt_number": 26
    },
    {
     "cell_type": "heading",
     "level": 3,
     "metadata": {},
     "source": [
      "Dataframes have columns."
     ]
    },
    {
     "cell_type": "code",
     "collapsed": false,
     "input": [
      "columns = heart_data.columns"
     ],
     "language": "python",
     "metadata": {},
     "outputs": [],
     "prompt_number": 27
    },
    {
     "cell_type": "code",
     "collapsed": false,
     "input": [
      "print columns"
     ],
     "language": "python",
     "metadata": {},
     "outputs": [
      {
       "output_type": "stream",
       "stream": "stdout",
       "text": [
        "Index([u'age', u'sex', u'cp', u'trestbps', u'chol', u'fbs', u'restecg', u'thalach', u'exang', u'oldpeak', u'slope', u'ca', u'thal', u'num'], dtype=object)\n"
       ]
      }
     ],
     "prompt_number": 28
    },
    {
     "cell_type": "heading",
     "level": 3,
     "metadata": {},
     "source": [
      "Columns are a list of strings."
     ]
    },
    {
     "cell_type": "code",
     "collapsed": false,
     "input": [
      "columns[0]\n",
      "#columns is a list.  The way to access what's in a list is by writing a number in brackets.  0 is the first entry.\n",
      "# -1 is the last.  -2 is the second to last.  etc.  Calling list[14] for a list with only 10 entries produces a well-known\n",
      "#oft-cited error \"list index out of range\""
     ],
     "language": "python",
     "metadata": {},
     "outputs": [
      {
       "metadata": {},
       "output_type": "pyout",
       "prompt_number": 29,
       "text": [
        "'age'"
       ]
      }
     ],
     "prompt_number": 29
    },
    {
     "cell_type": "code",
     "collapsed": false,
     "input": [
      "columns[2]"
     ],
     "language": "python",
     "metadata": {},
     "outputs": [
      {
       "metadata": {},
       "output_type": "pyout",
       "prompt_number": 30,
       "text": [
        "'cp'"
       ]
      }
     ],
     "prompt_number": 30
    },
    {
     "cell_type": "code",
     "collapsed": false,
     "input": [
      "columns[-2]"
     ],
     "language": "python",
     "metadata": {},
     "outputs": [
      {
       "metadata": {},
       "output_type": "pyout",
       "prompt_number": 31,
       "text": [
        "'thal'"
       ]
      }
     ],
     "prompt_number": 31
    },
    {
     "cell_type": "code",
     "collapsed": false,
     "input": [
      "#we use the colon to select a subset.  Everything from 0 to 3, including 0 but not including 3.\n",
      "columns[0:3]"
     ],
     "language": "python",
     "metadata": {},
     "outputs": [
      {
       "metadata": {},
       "output_type": "pyout",
       "prompt_number": 32,
       "text": [
        "Index([u'age', u'sex', u'cp'], dtype=object)"
       ]
      }
     ],
     "prompt_number": 32
    },
    {
     "cell_type": "code",
     "collapsed": false,
     "input": [
      "columns[0:2]"
     ],
     "language": "python",
     "metadata": {},
     "outputs": [
      {
       "metadata": {},
       "output_type": "pyout",
       "prompt_number": 33,
       "text": [
        "Index([u'age', u'sex'], dtype=object)"
       ]
      }
     ],
     "prompt_number": 33
    },
    {
     "cell_type": "heading",
     "level": 3,
     "metadata": {},
     "source": [
      "Strings are a list of characters."
     ]
    },
    {
     "cell_type": "code",
     "collapsed": false,
     "input": [
      "#individual characters can be accessed in the same way as list entries.  Strings behave as if they were lists of characters.\n",
      "column1 = columns[0]\n",
      "column1"
     ],
     "language": "python",
     "metadata": {},
     "outputs": [
      {
       "metadata": {},
       "output_type": "pyout",
       "prompt_number": 34,
       "text": [
        "'age'"
       ]
      }
     ],
     "prompt_number": 34
    },
    {
     "cell_type": "code",
     "collapsed": false,
     "input": [
      "column1[0]"
     ],
     "language": "python",
     "metadata": {},
     "outputs": [
      {
       "metadata": {},
       "output_type": "pyout",
       "prompt_number": 35,
       "text": [
        "'a'"
       ]
      }
     ],
     "prompt_number": 35
    },
    {
     "cell_type": "code",
     "collapsed": false,
     "input": [
      "column1[0:2]"
     ],
     "language": "python",
     "metadata": {},
     "outputs": [
      {
       "metadata": {},
       "output_type": "pyout",
       "prompt_number": 36,
       "text": [
        "'ag'"
       ]
      }
     ],
     "prompt_number": 36
    },
    {
     "cell_type": "code",
     "collapsed": false,
     "input": [
      "#this is a for loop it's used to repeat an action over some list, for different numbers.  \n",
      "#columns is a list.  In the first line we're taking each value of columns (first columns[0] then columns[1] then columns[2] and\n",
      "#this is important, RENAMING it 'name' so that in the rest of the code (the indented portion is a code block) the entry we're\n",
      "#looking at is always named 'name' although the value of 'name' will change as we move through the columns list.\n",
      "#The next lines say that if the first character (name[0] since name is a string) is equal to the string \"n\" then print it out.\n",
      "for name in columns:\n",
      "    if name[0] == \"n\":\n",
      "        print name"
     ],
     "language": "python",
     "metadata": {},
     "outputs": [
      {
       "output_type": "stream",
       "stream": "stdout",
       "text": [
        "num\n"
       ]
      }
     ],
     "prompt_number": 37
    },
    {
     "cell_type": "heading",
     "level": 3,
     "metadata": {},
     "source": [
      "Characters are... characters."
     ]
    },
    {
     "cell_type": "code",
     "collapsed": false,
     "input": [
      "#This shows a simple a boolean expression\n",
      "'a'=='a'"
     ],
     "language": "python",
     "metadata": {},
     "outputs": [
      {
       "metadata": {},
       "output_type": "pyout",
       "prompt_number": 38,
       "text": [
        "True"
       ]
      }
     ],
     "prompt_number": 38
    },
    {
     "cell_type": "heading",
     "level": 2,
     "metadata": {},
     "source": [
      "II."
     ]
    },
    {
     "cell_type": "heading",
     "level": 3,
     "metadata": {},
     "source": [
      "Dataframes are a list of series."
     ]
    },
    {
     "cell_type": "code",
     "collapsed": false,
     "input": [
      "#heart_data is a dataframe and it has different columns of data.  Each of these columns has a string name we can access by \n",
      "#typing that string name into brackets next to the dataframe.  Try calling individually each of the columns.  The resulting\n",
      "#output is called a series, it's a 1 dimensional dataframe.\n",
      "heart_data['age']"
     ],
     "language": "python",
     "metadata": {},
     "outputs": [
      {
       "metadata": {},
       "output_type": "pyout",
       "prompt_number": 39,
       "text": [
        "0     67\n",
        "1     67\n",
        "2     37\n",
        "3     41\n",
        "4     56\n",
        "5     62\n",
        "6     57\n",
        "7     63\n",
        "8     53\n",
        "9     57\n",
        "10    56\n",
        "11    56\n",
        "12    44\n",
        "13    52\n",
        "14    57\n",
        "...\n",
        "287    56\n",
        "288    56\n",
        "289    67\n",
        "290    55\n",
        "291    44\n",
        "292    63\n",
        "293    63\n",
        "294    41\n",
        "295    59\n",
        "296    57\n",
        "297    45\n",
        "298    68\n",
        "299    57\n",
        "300    57\n",
        "301    38\n",
        "Name: age, Length: 302, dtype: float64"
       ]
      }
     ],
     "prompt_number": 39
    },
    {
     "cell_type": "code",
     "collapsed": false,
     "input": [
      "type(heart_data['age'])"
     ],
     "language": "python",
     "metadata": {},
     "outputs": [
      {
       "metadata": {},
       "output_type": "pyout",
       "prompt_number": 40,
       "text": [
        "pandas.core.series.Series"
       ]
      }
     ],
     "prompt_number": 40
    },
    {
     "cell_type": "code",
     "collapsed": false,
     "input": [
      "#pandas is a sophisticated data storage method and it even let's use retrieve more than one column at a time\n",
      "#by writing a LIST of column names rather than the string ('age') we used in the block above.\n",
      "heart_data[['age','num']]"
     ],
     "language": "python",
     "metadata": {},
     "outputs": [
      {
       "html": [
        "<pre>\n",
        "&lt;class 'pandas.core.frame.DataFrame'&gt;\n",
        "Int64Index: 302 entries, 0 to 301\n",
        "Data columns (total 2 columns):\n",
        "age    302  non-null values\n",
        "num    302  non-null values\n",
        "dtypes: float64(1), int64(1)\n",
        "</pre>"
       ],
       "metadata": {},
       "output_type": "pyout",
       "prompt_number": 41,
       "text": [
        "<class 'pandas.core.frame.DataFrame'>\n",
        "Int64Index: 302 entries, 0 to 301\n",
        "Data columns (total 2 columns):\n",
        "age    302  non-null values\n",
        "num    302  non-null values\n",
        "dtypes: float64(1), int64(1)"
       ]
      }
     ],
     "prompt_number": 41
    },
    {
     "cell_type": "code",
     "collapsed": false,
     "input": [
      "#Here we get tricky.  We're submitting a list with only one item, a string with the column name we want.\n",
      "#But because we're submitting a list, the output is a dataframe rather than a series.  At this point take a break.\n",
      "#The purpose of knowing the right type is that some functions only operate on one type of object.\n",
      "#I.e. \"This\" + \"that\" returns \"Thisthat\" while 1+1 returns 2.  Clearly the plus sign is doing two different things\n",
      "#in the first case it's concatenating two strings, and in the second it's adding two numbers.  Integer addition would\n",
      "#make no sense on a string.  In just the same way there is some analysis that can only be performed on dataframes and\n",
      "#the functions aren't written to handle one-dimensional data series.  This is something just to keep in mind since\n",
      "#it may result in rather deep and difficult-to-find errors.\n",
      "type(heart_data[['age']])"
     ],
     "language": "python",
     "metadata": {},
     "outputs": [
      {
       "metadata": {},
       "output_type": "pyout",
       "prompt_number": 42,
       "text": [
        "pandas.core.frame.DataFrame"
       ]
      }
     ],
     "prompt_number": 42
    },
    {
     "cell_type": "code",
     "collapsed": false,
     "input": [
      "print \"This\" + \"that\""
     ],
     "language": "python",
     "metadata": {},
     "outputs": [
      {
       "output_type": "stream",
       "stream": "stdout",
       "text": [
        "Thisthat\n"
       ]
      }
     ],
     "prompt_number": 43
    },
    {
     "cell_type": "heading",
     "level": 3,
     "metadata": {},
     "source": [
      "Series behave like lists."
     ]
    },
    {
     "cell_type": "code",
     "collapsed": false,
     "input": [
      "#we're making a new variable 'age_column' and assigning it the value of the age column in the heart_data dataframe (df for short)\n",
      "age_column = heart_data['age']"
     ],
     "language": "python",
     "metadata": {},
     "outputs": [],
     "prompt_number": 44
    },
    {
     "cell_type": "code",
     "collapsed": false,
     "input": [
      "#since series behave like lists we can select the first 0 through 34 elements the same we we would for lists\n",
      "age_column[0:35]"
     ],
     "language": "python",
     "metadata": {},
     "outputs": [
      {
       "metadata": {},
       "output_type": "pyout",
       "prompt_number": 45,
       "text": [
        "0     67\n",
        "1     67\n",
        "2     37\n",
        "3     41\n",
        "4     56\n",
        "5     62\n",
        "6     57\n",
        "7     63\n",
        "8     53\n",
        "9     57\n",
        "10    56\n",
        "11    56\n",
        "12    44\n",
        "13    52\n",
        "14    57\n",
        "15    48\n",
        "16    54\n",
        "17    48\n",
        "18    49\n",
        "19    64\n",
        "20    58\n",
        "21    58\n",
        "22    58\n",
        "23    60\n",
        "24    50\n",
        "25    58\n",
        "26    66\n",
        "27    43\n",
        "28    40\n",
        "29    69\n",
        "30    60\n",
        "31    64\n",
        "32    59\n",
        "33    44\n",
        "34    42\n",
        "Name: age, dtype: float64"
       ]
      }
     ],
     "prompt_number": 45
    },
    {
     "cell_type": "heading",
     "level": 2,
     "metadata": {},
     "source": [
      "III."
     ]
    },
    {
     "cell_type": "heading",
     "level": 2,
     "metadata": {},
     "source": [
      "Dataframes contain different type of variables."
     ]
    },
    {
     "cell_type": "code",
     "collapsed": false,
     "input": [
      "#another for loop\n",
      "#for every string in columns name it 'col_name' and perform some operation with col_names.\n",
      "#In this case we're writing it's type.  First we select a column with heart_data[col_name] then\n",
      "#we select the first element (since every element of the column will be the same type) with [0]\n",
      "#and then we feed this as the only input into our function \"type()\"\n",
      "for col_name in columns:\n",
      "    print col_name, type(heart_data[col_name][0])"
     ],
     "language": "python",
     "metadata": {},
     "outputs": [
      {
       "output_type": "stream",
       "stream": "stdout",
       "text": [
        "age <type 'numpy.float64'>\n",
        "sex <type 'numpy.float64'>\n",
        "cp <type 'numpy.float64'>\n",
        "trestbps <type 'numpy.float64'>\n",
        "chol <type 'numpy.float64'>\n",
        "fbs <type 'numpy.float64'>\n",
        "restecg <type 'numpy.float64'>\n",
        "thalach <type 'numpy.float64'>\n",
        "exang <type 'numpy.float64'>\n",
        "oldpeak <type 'numpy.float64'>\n",
        "slope <type 'numpy.float64'>\n",
        "ca <type 'numpy.float64'>\n",
        "thal <type 'numpy.float64'>\n",
        "num <type 'numpy.int64'>\n"
       ]
      }
     ],
     "prompt_number": 46
    },
    {
     "cell_type": "code",
     "collapsed": false,
     "input": [
      "#this just prints our dataset.  It only works if it's small enough to show.\n",
      "heart_data"
     ],
     "language": "python",
     "metadata": {},
     "outputs": [
      {
       "html": [
        "<pre>\n",
        "&lt;class 'pandas.core.frame.DataFrame'&gt;\n",
        "Int64Index: 302 entries, 0 to 301\n",
        "Data columns (total 14 columns):\n",
        "age         302  non-null values\n",
        "sex         302  non-null values\n",
        "cp          302  non-null values\n",
        "trestbps    302  non-null values\n",
        "chol        302  non-null values\n",
        "fbs         302  non-null values\n",
        "restecg     302  non-null values\n",
        "thalach     302  non-null values\n",
        "exang       302  non-null values\n",
        "oldpeak     302  non-null values\n",
        "slope       302  non-null values\n",
        "ca          298  non-null values\n",
        "thal        300  non-null values\n",
        "num         302  non-null values\n",
        "dtypes: float64(13), int64(1)\n",
        "</pre>"
       ],
       "metadata": {},
       "output_type": "pyout",
       "prompt_number": 47,
       "text": [
        "<class 'pandas.core.frame.DataFrame'>\n",
        "Int64Index: 302 entries, 0 to 301\n",
        "Data columns (total 14 columns):\n",
        "age         302  non-null values\n",
        "sex         302  non-null values\n",
        "cp          302  non-null values\n",
        "trestbps    302  non-null values\n",
        "chol        302  non-null values\n",
        "fbs         302  non-null values\n",
        "restecg     302  non-null values\n",
        "thalach     302  non-null values\n",
        "exang       302  non-null values\n",
        "oldpeak     302  non-null values\n",
        "slope       302  non-null values\n",
        "ca          298  non-null values\n",
        "thal        300  non-null values\n",
        "num         302  non-null values\n",
        "dtypes: float64(13), int64(1)"
       ]
      }
     ],
     "prompt_number": 47
    },
    {
     "cell_type": "heading",
     "level": 3,
     "metadata": {},
     "source": [
      "Dataframes contain integers."
     ]
    },
    {
     "cell_type": "code",
     "collapsed": false,
     "input": [
      "num = heart_data['num']"
     ],
     "language": "python",
     "metadata": {},
     "outputs": [],
     "prompt_number": 48
    },
    {
     "cell_type": "code",
     "collapsed": false,
     "input": [
      "type(num)"
     ],
     "language": "python",
     "metadata": {},
     "outputs": [
      {
       "metadata": {},
       "output_type": "pyout",
       "prompt_number": 49,
       "text": [
        "pandas.core.series.Series"
       ]
      }
     ],
     "prompt_number": 49
    },
    {
     "cell_type": "code",
     "collapsed": false,
     "input": [
      "type(num[0])"
     ],
     "language": "python",
     "metadata": {},
     "outputs": [
      {
       "metadata": {},
       "output_type": "pyout",
       "prompt_number": 50,
       "text": [
        "numpy.int64"
       ]
      }
     ],
     "prompt_number": 50
    },
    {
     "cell_type": "heading",
     "level": 3,
     "metadata": {},
     "source": [
      "Dataframes can contain floating point numbers"
     ]
    },
    {
     "cell_type": "code",
     "collapsed": false,
     "input": [
      "sex = heart_data['sex']"
     ],
     "language": "python",
     "metadata": {},
     "outputs": [],
     "prompt_number": 51
    },
    {
     "cell_type": "code",
     "collapsed": false,
     "input": [
      "#floating point numbers are numbers with decimal points.  They're different than integers.\n",
      "type(sex[0])"
     ],
     "language": "python",
     "metadata": {},
     "outputs": [
      {
       "metadata": {},
       "output_type": "pyout",
       "prompt_number": 52,
       "text": [
        "numpy.float64"
       ]
      }
     ],
     "prompt_number": 52
    },
    {
     "cell_type": "heading",
     "level": 3,
     "metadata": {},
     "source": [
      "... that can be made into categorical variables"
     ]
    },
    {
     "cell_type": "code",
     "collapsed": false,
     "input": [
      "#there is a lot going on here.  The .apply function takes a function as an input it then applies that function on every\n",
      "#row of the dataframe and returns the result.  In this case we're running str(1), str(2), etc for every value in the\n",
      "#sex column of the heart_data dataset.\n",
      "\n",
      "#why is apply after the dataframe?\n",
      "\n",
      "#it's operating on the object it comes after.  Apply in this case is not a generic function but one only callable\n",
      "#on dataframe objects (the actual code for it is within the dataframe code).  Since apply is not a generic function\n",
      "#but only callable from a dataframe object we call it with the period.  Which is the same way to how we access object\n",
      "#attributes and in some sense this apply function is an attribute of our dataframe.  \n",
      "\n",
      "#I'm getting a bit theoretical, but the above discussion is unique to Python and why it's an unbelievably versatile language\n",
      "#It's used on raspberry pi's (tiny tiny altoid tin sized computers) and it's used by facebook to distribute server load\n",
      "#There's no other language that has that versatility.\n",
      "\n",
      "heart_data['sex']=heart_data['sex'].apply(str)"
     ],
     "language": "python",
     "metadata": {},
     "outputs": [],
     "prompt_number": 53
    },
    {
     "cell_type": "code",
     "collapsed": false,
     "input": [
      "type(heart_data['sex'][0])"
     ],
     "language": "python",
     "metadata": {},
     "outputs": [
      {
       "metadata": {},
       "output_type": "pyout",
       "prompt_number": 54,
       "text": [
        "str"
       ]
      }
     ],
     "prompt_number": 54
    },
    {
     "cell_type": "heading",
     "level": 3,
     "metadata": {},
     "source": [
      "and converted back to integers!"
     ]
    },
    {
     "cell_type": "code",
     "collapsed": false,
     "input": [
      "#now we're calling a function from the np library named unique.  Unique takes a series of values and\n",
      "#returns a series with the values replaced by a number.  That number is the same if the two inputs were the same.\n",
      "#The idea is that the sex column is a list of strings.  But we want to make them integers.\n",
      "\n",
      "#We're then saving the output of the function into two variables\n",
      "\n",
      "#Why two variables?  The function returns a tuple.  A tuple is another python object\n",
      "#which looks like this (a,b,c) that's a tuple with three elements \"a\" \"b\" and \"c.\"\n",
      "\n",
      "#The first line of code is a shortcut (and they're are many of these in Python!) to assign the\n",
      "#output of a function directly to the variable we want, instead of needing to have an \n",
      "#intermedate step where we first save the data as a temporary variable and then\n",
      "#assign it to the variable we really want.\n",
      "\n",
      "test, inverse = np.unique(heart_data['sex'], return_inverse=True)\n",
      "heart_data['sex']=inverse"
     ],
     "language": "python",
     "metadata": {},
     "outputs": [],
     "prompt_number": 55
    },
    {
     "cell_type": "code",
     "collapsed": false,
     "input": [
      "type(heart_data['sex'][0])"
     ],
     "language": "python",
     "metadata": {},
     "outputs": [
      {
       "metadata": {},
       "output_type": "pyout",
       "prompt_number": 56,
       "text": [
        "numpy.int64"
       ]
      }
     ],
     "prompt_number": 56
    },
    {
     "cell_type": "heading",
     "level": 2,
     "metadata": {},
     "source": [
      "IV."
     ]
    },
    {
     "cell_type": "heading",
     "level": 3,
     "metadata": {},
     "source": [
      "Let knowledge grow and life be enriched!  Observe'th as our triumphal dataframe grow'th."
     ]
    },
    {
     "cell_type": "code",
     "collapsed": false,
     "input": [
      "#In this code we're actually adding a new column to our dataframe\n",
      "#we're naming it 'num_times_2' and setting it equal to 2 times the num column\n",
      "heart_data['num_times_2']=2*heart_data['num']"
     ],
     "language": "python",
     "metadata": {},
     "outputs": [],
     "prompt_number": 57
    },
    {
     "cell_type": "code",
     "collapsed": false,
     "input": [
      "heart_data['num_times_3']=3*heart_data['num']"
     ],
     "language": "python",
     "metadata": {},
     "outputs": [],
     "prompt_number": 58
    },
    {
     "cell_type": "code",
     "collapsed": false,
     "input": [
      "#range(10) returns a list of the numbers [0,1,2,3,..., 9]\n",
      "#For every number in that list, call it 'i' and then perform some operation on i\n",
      "#in this case we're making a new variable named label. Paranthesis are a way\n",
      "#of returning nicely formatted numerical values.  The \"%0.2d\" in the string\n",
      "#is replace with the variable that follows the string, after the \"%\"\n",
      "#The're we're adding a new column with that name and setting it equal to\n",
      "#either 1 times num or 2 times num or 3 times num depending on which number\n",
      "#of the loop we're on.\n",
      "\n",
      "for i in range(10):\n",
      "    label = \"num_times_%02d\"%i\n",
      "    heart_data[label]=heart_data['num']*i"
     ],
     "language": "python",
     "metadata": {},
     "outputs": [],
     "prompt_number": 59
    },
    {
     "cell_type": "code",
     "collapsed": false,
     "input": [
      "#printing the attribut heart_data.columns\n",
      "print heart_data.columns"
     ],
     "language": "python",
     "metadata": {},
     "outputs": [
      {
       "output_type": "stream",
       "stream": "stdout",
       "text": [
        "Index([u'age', u'sex', u'cp', u'trestbps', u'chol', u'fbs', u'restecg', u'thalach', u'exang', u'oldpeak', u'slope', u'ca', u'thal', u'num', u'num_times_2', u'num_times_3', u'num_times_00', u'num_times_01', u'num_times_02', u'num_times_03', u'num_times_04', u'num_times_05', u'num_times_06', u'num_times_07', u'num_times_08', u'num_times_09'], dtype=object)\n"
       ]
      }
     ],
     "prompt_number": 60
    },
    {
     "cell_type": "code",
     "collapsed": false,
     "input": [
      "#for every column name if the first 4 characters are \"num_\" print it out\n",
      "for column in heart_data.columns:\n",
      "    if column[0:4]==\"num_\":\n",
      "        print column"
     ],
     "language": "python",
     "metadata": {},
     "outputs": [
      {
       "output_type": "stream",
       "stream": "stdout",
       "text": [
        "num_times_2\n",
        "num_times_3\n",
        "num_times_00\n",
        "num_times_01\n",
        "num_times_02\n",
        "num_times_03\n",
        "num_times_04\n",
        "num_times_05\n",
        "num_times_06\n",
        "num_times_07\n",
        "num_times_08\n",
        "num_times_09\n"
       ]
      }
     ],
     "prompt_number": 61
    },
    {
     "cell_type": "heading",
     "level": 3,
     "metadata": {},
     "source": [
      "Columns can be described."
     ]
    },
    {
     "cell_type": "code",
     "collapsed": false,
     "input": [
      "#Describe is another function callable on dataframe objects.  In this case it returns a summary of our dataframe.\n",
      "heart_data[['age','sex','cp']].describe()"
     ],
     "language": "python",
     "metadata": {},
     "outputs": [
      {
       "html": [
        "<div style=\"max-height:1000px;max-width:1500px;overflow:auto;\">\n",
        "<table border=\"1\" class=\"dataframe\">\n",
        "  <thead>\n",
        "    <tr style=\"text-align: right;\">\n",
        "      <th></th>\n",
        "      <th>age</th>\n",
        "      <th>sex</th>\n",
        "      <th>cp</th>\n",
        "    </tr>\n",
        "  </thead>\n",
        "  <tbody>\n",
        "    <tr>\n",
        "      <th>count</th>\n",
        "      <td> 302.000000</td>\n",
        "      <td> 302.000000</td>\n",
        "      <td> 302.000000</td>\n",
        "    </tr>\n",
        "    <tr>\n",
        "      <th>mean</th>\n",
        "      <td>  54.410596</td>\n",
        "      <td>   0.678808</td>\n",
        "      <td>   3.165563</td>\n",
        "    </tr>\n",
        "    <tr>\n",
        "      <th>std</th>\n",
        "      <td>   9.040163</td>\n",
        "      <td>   0.467709</td>\n",
        "      <td>   0.953612</td>\n",
        "    </tr>\n",
        "    <tr>\n",
        "      <th>min</th>\n",
        "      <td>  29.000000</td>\n",
        "      <td>   0.000000</td>\n",
        "      <td>   1.000000</td>\n",
        "    </tr>\n",
        "    <tr>\n",
        "      <th>25%</th>\n",
        "      <td>  48.000000</td>\n",
        "      <td>   0.000000</td>\n",
        "      <td>   3.000000</td>\n",
        "    </tr>\n",
        "    <tr>\n",
        "      <th>50%</th>\n",
        "      <td>  55.500000</td>\n",
        "      <td>   1.000000</td>\n",
        "      <td>   3.000000</td>\n",
        "    </tr>\n",
        "    <tr>\n",
        "      <th>75%</th>\n",
        "      <td>  61.000000</td>\n",
        "      <td>   1.000000</td>\n",
        "      <td>   4.000000</td>\n",
        "    </tr>\n",
        "    <tr>\n",
        "      <th>max</th>\n",
        "      <td>  77.000000</td>\n",
        "      <td>   1.000000</td>\n",
        "      <td>   4.000000</td>\n",
        "    </tr>\n",
        "  </tbody>\n",
        "</table>\n",
        "</div>"
       ],
       "metadata": {},
       "output_type": "pyout",
       "prompt_number": 62,
       "text": [
        "              age         sex          cp\n",
        "count  302.000000  302.000000  302.000000\n",
        "mean    54.410596    0.678808    3.165563\n",
        "std      9.040163    0.467709    0.953612\n",
        "min     29.000000    0.000000    1.000000\n",
        "25%     48.000000    0.000000    3.000000\n",
        "50%     55.500000    1.000000    3.000000\n",
        "75%     61.000000    1.000000    4.000000\n",
        "max     77.000000    1.000000    4.000000"
       ]
      }
     ],
     "prompt_number": 62
    },
    {
     "cell_type": "code",
     "collapsed": false,
     "input": [
      "heart_data[['num','num_times_05','num_times_09']].describe()"
     ],
     "language": "python",
     "metadata": {},
     "outputs": [
      {
       "html": [
        "<div style=\"max-height:1000px;max-width:1500px;overflow:auto;\">\n",
        "<table border=\"1\" class=\"dataframe\">\n",
        "  <thead>\n",
        "    <tr style=\"text-align: right;\">\n",
        "      <th></th>\n",
        "      <th>num</th>\n",
        "      <th>num_times_05</th>\n",
        "      <th>num_times_09</th>\n",
        "    </tr>\n",
        "  </thead>\n",
        "  <tbody>\n",
        "    <tr>\n",
        "      <th>count</th>\n",
        "      <td> 302.000000</td>\n",
        "      <td> 302.000000</td>\n",
        "      <td> 302.000000</td>\n",
        "    </tr>\n",
        "    <tr>\n",
        "      <th>mean</th>\n",
        "      <td>   0.940397</td>\n",
        "      <td>   4.701987</td>\n",
        "      <td>   8.463576</td>\n",
        "    </tr>\n",
        "    <tr>\n",
        "      <th>std</th>\n",
        "      <td>   1.229384</td>\n",
        "      <td>   6.146922</td>\n",
        "      <td>  11.064459</td>\n",
        "    </tr>\n",
        "    <tr>\n",
        "      <th>min</th>\n",
        "      <td>   0.000000</td>\n",
        "      <td>   0.000000</td>\n",
        "      <td>   0.000000</td>\n",
        "    </tr>\n",
        "    <tr>\n",
        "      <th>25%</th>\n",
        "      <td>   0.000000</td>\n",
        "      <td>   0.000000</td>\n",
        "      <td>   0.000000</td>\n",
        "    </tr>\n",
        "    <tr>\n",
        "      <th>50%</th>\n",
        "      <td>   0.000000</td>\n",
        "      <td>   0.000000</td>\n",
        "      <td>   0.000000</td>\n",
        "    </tr>\n",
        "    <tr>\n",
        "      <th>75%</th>\n",
        "      <td>   2.000000</td>\n",
        "      <td>  10.000000</td>\n",
        "      <td>  18.000000</td>\n",
        "    </tr>\n",
        "    <tr>\n",
        "      <th>max</th>\n",
        "      <td>   4.000000</td>\n",
        "      <td>  20.000000</td>\n",
        "      <td>  36.000000</td>\n",
        "    </tr>\n",
        "  </tbody>\n",
        "</table>\n",
        "</div>"
       ],
       "metadata": {},
       "output_type": "pyout",
       "prompt_number": 63,
       "text": [
        "              num  num_times_05  num_times_09\n",
        "count  302.000000    302.000000    302.000000\n",
        "mean     0.940397      4.701987      8.463576\n",
        "std      1.229384      6.146922     11.064459\n",
        "min      0.000000      0.000000      0.000000\n",
        "25%      0.000000      0.000000      0.000000\n",
        "50%      0.000000      0.000000      0.000000\n",
        "75%      2.000000     10.000000     18.000000\n",
        "max      4.000000     20.000000     36.000000"
       ]
      }
     ],
     "prompt_number": 63
    },
    {
     "cell_type": "heading",
     "level": 3,
     "metadata": {},
     "source": [
      "Columns can be counted."
     ]
    },
    {
     "cell_type": "code",
     "collapsed": false,
     "input": [
      "#another dataframe function! count returns the number of non null values\n",
      "heart_data[['age','cp']].count()"
     ],
     "language": "python",
     "metadata": {},
     "outputs": [
      {
       "metadata": {},
       "output_type": "pyout",
       "prompt_number": 64,
       "text": [
        "age    302\n",
        "cp     302\n",
        "dtype: int64"
       ]
      }
     ],
     "prompt_number": 64
    },
    {
     "cell_type": "heading",
     "level": 3,
     "metadata": {},
     "source": [
      "Columns have means."
     ]
    },
    {
     "cell_type": "code",
     "collapsed": false,
     "input": [
      "#another function - mean\n",
      "heart_data[['chol', 'fbs']].mean()"
     ],
     "language": "python",
     "metadata": {},
     "outputs": [
      {
       "metadata": {},
       "output_type": "pyout",
       "prompt_number": 65,
       "text": [
        "chol    246.738411\n",
        "fbs       0.145695\n",
        "dtype: float64"
       ]
      }
     ],
     "prompt_number": 65
    },
    {
     "cell_type": "code",
     "collapsed": false,
     "input": [
      "#The output looks good, but the output of .mean is actually a series object\n",
      "type(heart_data[['chol', 'fbs']].mean())"
     ],
     "language": "python",
     "metadata": {},
     "outputs": [
      {
       "metadata": {},
       "output_type": "pyout",
       "prompt_number": 66,
       "text": [
        "pandas.core.series.Series"
       ]
      }
     ],
     "prompt_number": 66
    },
    {
     "cell_type": "code",
     "collapsed": false,
     "input": [
      "#this makes it a bit tricky to extract a single mean value.  We have to call it by it's string name again.\n",
      "heart_data[['chol']].mean()['chol']"
     ],
     "language": "python",
     "metadata": {},
     "outputs": [
      {
       "metadata": {},
       "output_type": "pyout",
       "prompt_number": 67,
       "text": [
        "246.73841059602648"
       ]
      }
     ],
     "prompt_number": 67
    },
    {
     "cell_type": "code",
     "collapsed": false,
     "input": [
      "type(heart_data[['chol']].mean()['chol'])"
     ],
     "language": "python",
     "metadata": {},
     "outputs": [
      {
       "metadata": {},
       "output_type": "pyout",
       "prompt_number": 68,
       "text": [
        "numpy.float64"
       ]
      }
     ],
     "prompt_number": 68
    },
    {
     "cell_type": "heading",
     "level": 3,
     "metadata": {},
     "source": [
      "Columns can be grouped."
     ]
    },
    {
     "cell_type": "code",
     "collapsed": false,
     "input": [
      "#groupby is a dataframe function that takes a column name.\n",
      "heart_data.groupby('sex')\n"
     ],
     "language": "python",
     "metadata": {},
     "outputs": [
      {
       "output_type": "stream",
       "stream": "stderr",
       "text": [
        "/usr/local/lib/python2.7/dist-packages/IPython/core/formatters.py:249: FormatterWarning: text/html formatter returned invalid type <class 'pandas.core.series.Series'> (expected (<type 'str'>, <type 'unicode'>)) for object: <pandas.core.groupby.DataFrameGroupBy object at 0x36d16d0>\n",
        "  FormatterWarning\n"
       ]
      },
      {
       "metadata": {},
       "output_type": "pyout",
       "prompt_number": 75,
       "text": [
        "<pandas.core.groupby.DataFrameGroupBy object at 0x36d16d0>"
       ]
      }
     ],
     "prompt_number": 75
    },
    {
     "cell_type": "code",
     "collapsed": false,
     "input": [
      "#this code is nesting function.  At first we're grouping a dataframe. Then we're running describe on the resulting dataframe.\n",
      "heart_data[['chol','fbs','restecg','sex']].groupby('sex').describe()"
     ],
     "language": "python",
     "metadata": {},
     "outputs": [
      {
       "html": [
        "<div style=\"max-height:1000px;max-width:1500px;overflow:auto;\">\n",
        "<table border=\"1\" class=\"dataframe\">\n",
        "  <thead>\n",
        "    <tr style=\"text-align: right;\">\n",
        "      <th></th>\n",
        "      <th></th>\n",
        "      <th>chol</th>\n",
        "      <th>fbs</th>\n",
        "      <th>restecg</th>\n",
        "      <th>sex</th>\n",
        "    </tr>\n",
        "    <tr>\n",
        "      <th>sex</th>\n",
        "      <th></th>\n",
        "      <th></th>\n",
        "      <th></th>\n",
        "      <th></th>\n",
        "      <th></th>\n",
        "    </tr>\n",
        "  </thead>\n",
        "  <tbody>\n",
        "    <tr>\n",
        "      <th rowspan=\"8\" valign=\"top\">0</th>\n",
        "      <th>count</th>\n",
        "      <td>  97.000000</td>\n",
        "      <td>  97.000000</td>\n",
        "      <td>  97.000000</td>\n",
        "      <td>  97</td>\n",
        "    </tr>\n",
        "    <tr>\n",
        "      <th>mean</th>\n",
        "      <td> 261.752577</td>\n",
        "      <td>   0.123711</td>\n",
        "      <td>   0.958763</td>\n",
        "      <td>   0</td>\n",
        "    </tr>\n",
        "    <tr>\n",
        "      <th>std</th>\n",
        "      <td>  64.900891</td>\n",
        "      <td>   0.330962</td>\n",
        "      <td>   0.988660</td>\n",
        "      <td>   0</td>\n",
        "    </tr>\n",
        "    <tr>\n",
        "      <th>min</th>\n",
        "      <td> 141.000000</td>\n",
        "      <td>   0.000000</td>\n",
        "      <td>   0.000000</td>\n",
        "      <td>   0</td>\n",
        "    </tr>\n",
        "    <tr>\n",
        "      <th>25%</th>\n",
        "      <td> 215.000000</td>\n",
        "      <td>   0.000000</td>\n",
        "      <td>   0.000000</td>\n",
        "      <td>   0</td>\n",
        "    </tr>\n",
        "    <tr>\n",
        "      <th>50%</th>\n",
        "      <td> 254.000000</td>\n",
        "      <td>   0.000000</td>\n",
        "      <td>   0.000000</td>\n",
        "      <td>   0</td>\n",
        "    </tr>\n",
        "    <tr>\n",
        "      <th>75%</th>\n",
        "      <td> 302.000000</td>\n",
        "      <td>   0.000000</td>\n",
        "      <td>   2.000000</td>\n",
        "      <td>   0</td>\n",
        "    </tr>\n",
        "    <tr>\n",
        "      <th>max</th>\n",
        "      <td> 564.000000</td>\n",
        "      <td>   1.000000</td>\n",
        "      <td>   2.000000</td>\n",
        "      <td>   0</td>\n",
        "    </tr>\n",
        "    <tr>\n",
        "      <th rowspan=\"8\" valign=\"top\">1</th>\n",
        "      <th>count</th>\n",
        "      <td> 205.000000</td>\n",
        "      <td> 205.000000</td>\n",
        "      <td> 205.000000</td>\n",
        "      <td> 205</td>\n",
        "    </tr>\n",
        "    <tr>\n",
        "      <th>mean</th>\n",
        "      <td> 239.634146</td>\n",
        "      <td>   0.156098</td>\n",
        "      <td>   1.000000</td>\n",
        "      <td>   1</td>\n",
        "    </tr>\n",
        "    <tr>\n",
        "      <th>std</th>\n",
        "      <td>  42.751652</td>\n",
        "      <td>   0.363836</td>\n",
        "      <td>   1.000000</td>\n",
        "      <td>   0</td>\n",
        "    </tr>\n",
        "    <tr>\n",
        "      <th>min</th>\n",
        "      <td> 126.000000</td>\n",
        "      <td>   0.000000</td>\n",
        "      <td>   0.000000</td>\n",
        "      <td>   1</td>\n",
        "    </tr>\n",
        "    <tr>\n",
        "      <th>25%</th>\n",
        "      <td> 208.000000</td>\n",
        "      <td>   0.000000</td>\n",
        "      <td>   0.000000</td>\n",
        "      <td>   1</td>\n",
        "    </tr>\n",
        "    <tr>\n",
        "      <th>50%</th>\n",
        "      <td> 235.000000</td>\n",
        "      <td>   0.000000</td>\n",
        "      <td>   1.000000</td>\n",
        "      <td>   1</td>\n",
        "    </tr>\n",
        "    <tr>\n",
        "      <th>75%</th>\n",
        "      <td> 269.000000</td>\n",
        "      <td>   0.000000</td>\n",
        "      <td>   2.000000</td>\n",
        "      <td>   1</td>\n",
        "    </tr>\n",
        "    <tr>\n",
        "      <th>max</th>\n",
        "      <td> 353.000000</td>\n",
        "      <td>   1.000000</td>\n",
        "      <td>   2.000000</td>\n",
        "      <td>   1</td>\n",
        "    </tr>\n",
        "  </tbody>\n",
        "</table>\n",
        "</div>"
       ],
       "metadata": {},
       "output_type": "pyout",
       "prompt_number": 70,
       "text": [
        "                 chol         fbs     restecg  sex\n",
        "sex                                               \n",
        "0   count   97.000000   97.000000   97.000000   97\n",
        "    mean   261.752577    0.123711    0.958763    0\n",
        "    std     64.900891    0.330962    0.988660    0\n",
        "    min    141.000000    0.000000    0.000000    0\n",
        "    25%    215.000000    0.000000    0.000000    0\n",
        "    50%    254.000000    0.000000    0.000000    0\n",
        "    75%    302.000000    0.000000    2.000000    0\n",
        "    max    564.000000    1.000000    2.000000    0\n",
        "1   count  205.000000  205.000000  205.000000  205\n",
        "    mean   239.634146    0.156098    1.000000    1\n",
        "    std     42.751652    0.363836    1.000000    0\n",
        "    min    126.000000    0.000000    0.000000    1\n",
        "    25%    208.000000    0.000000    0.000000    1\n",
        "    50%    235.000000    0.000000    1.000000    1\n",
        "    75%    269.000000    0.000000    2.000000    1\n",
        "    max    353.000000    1.000000    2.000000    1"
       ]
      }
     ],
     "prompt_number": 70
    },
    {
     "cell_type": "heading",
     "level": 2,
     "metadata": {},
     "source": [
      "V."
     ]
    },
    {
     "cell_type": "code",
     "collapsed": false,
     "input": [
      "#replace restecg with the group mean by gender"
     ],
     "language": "python",
     "metadata": {},
     "outputs": [],
     "prompt_number": 71
    },
    {
     "cell_type": "heading",
     "level": 2,
     "metadata": {},
     "source": [
      "VI."
     ]
    },
    {
     "cell_type": "heading",
     "level": 3,
     "metadata": {},
     "source": [
      "The Poetry of a Blank Cell"
     ]
    },
    {
     "cell_type": "heading",
     "level": 4,
     "metadata": {},
     "source": [
      "Empty dataframes waiting"
     ]
    },
    {
     "cell_type": "heading",
     "level": 4,
     "metadata": {},
     "source": [
      "to be filled."
     ]
    },
    {
     "cell_type": "heading",
     "level": 4,
     "metadata": {},
     "source": [
      "The blank canvas"
     ]
    },
    {
     "cell_type": "heading",
     "level": 4,
     "metadata": {},
     "source": [
      "of data scientists!"
     ]
    },
    {
     "cell_type": "heading",
     "level": 6,
     "metadata": {},
     "source": [
      "- Poet Laureate (GA)"
     ]
    },
    {
     "cell_type": "code",
     "collapsed": false,
     "input": [
      "#we're creating an empty dataframe object using the pandas.DataFrame function directly\n",
      "Empty_Canvas = pd.DataFrame(index=range(20), columns=[\"A\",\"B\"])\n",
      "Empty_Canvas"
     ],
     "language": "python",
     "metadata": {},
     "outputs": [
      {
       "html": [
        "<div style=\"max-height:1000px;max-width:1500px;overflow:auto;\">\n",
        "<table border=\"1\" class=\"dataframe\">\n",
        "  <thead>\n",
        "    <tr style=\"text-align: right;\">\n",
        "      <th></th>\n",
        "      <th>A</th>\n",
        "      <th>B</th>\n",
        "    </tr>\n",
        "  </thead>\n",
        "  <tbody>\n",
        "    <tr>\n",
        "      <th>0 </th>\n",
        "      <td> NaN</td>\n",
        "      <td> NaN</td>\n",
        "    </tr>\n",
        "    <tr>\n",
        "      <th>1 </th>\n",
        "      <td> NaN</td>\n",
        "      <td> NaN</td>\n",
        "    </tr>\n",
        "    <tr>\n",
        "      <th>2 </th>\n",
        "      <td> NaN</td>\n",
        "      <td> NaN</td>\n",
        "    </tr>\n",
        "    <tr>\n",
        "      <th>3 </th>\n",
        "      <td> NaN</td>\n",
        "      <td> NaN</td>\n",
        "    </tr>\n",
        "    <tr>\n",
        "      <th>4 </th>\n",
        "      <td> NaN</td>\n",
        "      <td> NaN</td>\n",
        "    </tr>\n",
        "    <tr>\n",
        "      <th>5 </th>\n",
        "      <td> NaN</td>\n",
        "      <td> NaN</td>\n",
        "    </tr>\n",
        "    <tr>\n",
        "      <th>6 </th>\n",
        "      <td> NaN</td>\n",
        "      <td> NaN</td>\n",
        "    </tr>\n",
        "    <tr>\n",
        "      <th>7 </th>\n",
        "      <td> NaN</td>\n",
        "      <td> NaN</td>\n",
        "    </tr>\n",
        "    <tr>\n",
        "      <th>8 </th>\n",
        "      <td> NaN</td>\n",
        "      <td> NaN</td>\n",
        "    </tr>\n",
        "    <tr>\n",
        "      <th>9 </th>\n",
        "      <td> NaN</td>\n",
        "      <td> NaN</td>\n",
        "    </tr>\n",
        "    <tr>\n",
        "      <th>10</th>\n",
        "      <td> NaN</td>\n",
        "      <td> NaN</td>\n",
        "    </tr>\n",
        "    <tr>\n",
        "      <th>11</th>\n",
        "      <td> NaN</td>\n",
        "      <td> NaN</td>\n",
        "    </tr>\n",
        "    <tr>\n",
        "      <th>12</th>\n",
        "      <td> NaN</td>\n",
        "      <td> NaN</td>\n",
        "    </tr>\n",
        "    <tr>\n",
        "      <th>13</th>\n",
        "      <td> NaN</td>\n",
        "      <td> NaN</td>\n",
        "    </tr>\n",
        "    <tr>\n",
        "      <th>14</th>\n",
        "      <td> NaN</td>\n",
        "      <td> NaN</td>\n",
        "    </tr>\n",
        "    <tr>\n",
        "      <th>15</th>\n",
        "      <td> NaN</td>\n",
        "      <td> NaN</td>\n",
        "    </tr>\n",
        "    <tr>\n",
        "      <th>16</th>\n",
        "      <td> NaN</td>\n",
        "      <td> NaN</td>\n",
        "    </tr>\n",
        "    <tr>\n",
        "      <th>17</th>\n",
        "      <td> NaN</td>\n",
        "      <td> NaN</td>\n",
        "    </tr>\n",
        "    <tr>\n",
        "      <th>18</th>\n",
        "      <td> NaN</td>\n",
        "      <td> NaN</td>\n",
        "    </tr>\n",
        "    <tr>\n",
        "      <th>19</th>\n",
        "      <td> NaN</td>\n",
        "      <td> NaN</td>\n",
        "    </tr>\n",
        "  </tbody>\n",
        "</table>\n",
        "</div>"
       ],
       "metadata": {},
       "output_type": "pyout",
       "prompt_number": 72,
       "text": [
        "      A    B\n",
        "0   NaN  NaN\n",
        "1   NaN  NaN\n",
        "2   NaN  NaN\n",
        "3   NaN  NaN\n",
        "4   NaN  NaN\n",
        "5   NaN  NaN\n",
        "6   NaN  NaN\n",
        "7   NaN  NaN\n",
        "8   NaN  NaN\n",
        "9   NaN  NaN\n",
        "10  NaN  NaN\n",
        "11  NaN  NaN\n",
        "12  NaN  NaN\n",
        "13  NaN  NaN\n",
        "14  NaN  NaN\n",
        "15  NaN  NaN\n",
        "16  NaN  NaN\n",
        "17  NaN  NaN\n",
        "18  NaN  NaN\n",
        "19  NaN  NaN"
       ]
      }
     ],
     "prompt_number": 72
    },
    {
     "cell_type": "code",
     "collapsed": false,
     "input": [
      "#Now we're replacing the NA's in column A with the string \"No!\"\n",
      "#and the NA's in column be with the string \"Yes!\"\n",
      "Empty_Canvas['A'].fillna(\"No!\", inplace=True)\n",
      "Empty_Canvas['B'].fillna(\"Yes!\", inplace=True)"
     ],
     "language": "python",
     "metadata": {},
     "outputs": [],
     "prompt_number": 73
    },
    {
     "cell_type": "markdown",
     "metadata": {},
     "source": [
      "Save a dataframe's contents to file"
     ]
    },
    {
     "cell_type": "code",
     "collapsed": false,
     "input": [
      "#then exporting it as a csv readable with .read_csv command we used at the beginning of this notebook\n",
      "Empty_Canvas.to_csv('TheBlankCanvas.csv')"
     ],
     "language": "python",
     "metadata": {},
     "outputs": [],
     "prompt_number": 74
    },
    {
     "cell_type": "code",
     "collapsed": false,
     "input": [],
     "language": "python",
     "metadata": {},
     "outputs": [],
     "prompt_number": 74
    }
   ],
   "metadata": {}
  }
 ]
}