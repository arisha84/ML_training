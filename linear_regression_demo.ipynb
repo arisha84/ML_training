{
 "metadata": {
  "name": "",
  "signature": "sha256:f04c4fb8c775359926fcc3259ef61d0fe54321a930b23fc7529ba86e723791b7"
 },
 "nbformat": 3,
 "nbformat_minor": 0,
 "worksheets": [
  {
   "cells": [
    {
     "cell_type": "code",
     "collapsed": false,
     "input": [
      "import pandas as pd\n",
      "import numpy as np\n",
      "import matplotlib.pyplot as plt\n",
      "#import seaborn as sns\n",
      "from sklearn.linear_model import LinearRegression\n",
      "\n",
      "from IPython.display import Image\n",
      "%matplotlib inline"
     ],
     "language": "python",
     "metadata": {},
     "outputs": [],
     "prompt_number": 37
    },
    {
     "cell_type": "code",
     "collapsed": false,
     "input": [
      "pwd"
     ],
     "language": "python",
     "metadata": {},
     "outputs": [
      {
       "metadata": {},
       "output_type": "pyout",
       "prompt_number": 151,
       "text": [
        "u'/Users/asharon/MyDataScienceToolbox/fall_2014_lessons/03_linear_regression/lab'"
       ]
      }
     ],
     "prompt_number": 151
    },
    {
     "cell_type": "markdown",
     "metadata": {},
     "source": [
      "### Steps:\n",
      "\n",
      "1. Create random training data for X and y\n",
      "2. Visualize\n",
      "3. Create sklearn Linear Regression Model and fit training data to it\n",
      "4. Create test input data, plug it into the model, and get predicted values for y (y_hat)\n",
      "5. Visualize"
     ]
    },
    {
     "cell_type": "markdown",
     "metadata": {},
     "source": [
      "#### Create some random data"
     ]
    },
    {
     "cell_type": "code",
     "collapsed": false,
     "input": [
      "np.random.seed(0)"
     ],
     "language": "python",
     "metadata": {},
     "outputs": [],
     "prompt_number": 38
    },
    {
     "cell_type": "markdown",
     "metadata": {},
     "source": [
      "#### Generate X values"
     ]
    },
    {
     "cell_type": "code",
     "collapsed": false,
     "input": [
      "#X = np.random.random(size=(20,1)) # The size of the input array is expected to be [n_samples, n_features]\n",
      "X = np.linspace(1,10,20)\n",
      "X"
     ],
     "language": "python",
     "metadata": {},
     "outputs": [
      {
       "metadata": {},
       "output_type": "pyout",
       "prompt_number": 136,
       "text": [
        "array([  1.        ,   1.47368421,   1.94736842,   2.42105263,\n",
        "         2.89473684,   3.36842105,   3.84210526,   4.31578947,\n",
        "         4.78947368,   5.26315789,   5.73684211,   6.21052632,\n",
        "         6.68421053,   7.15789474,   7.63157895,   8.10526316,\n",
        "         8.57894737,   9.05263158,   9.52631579,  10.        ])"
       ]
      }
     ],
     "prompt_number": 136
    },
    {
     "cell_type": "code",
     "collapsed": false,
     "input": [
      "print X.shape"
     ],
     "language": "python",
     "metadata": {},
     "outputs": [
      {
       "output_type": "stream",
       "stream": "stdout",
       "text": [
        "(20, 1)\n"
       ]
      }
     ],
     "prompt_number": 122
    },
    {
     "cell_type": "code",
     "collapsed": false,
     "input": [
      "X?"
     ],
     "language": "python",
     "metadata": {},
     "outputs": [],
     "prompt_number": 95
    },
    {
     "cell_type": "code",
     "collapsed": false,
     "input": [
      "x_s = X.squeeze()"
     ],
     "language": "python",
     "metadata": {},
     "outputs": [],
     "prompt_number": 63
    },
    {
     "cell_type": "code",
     "collapsed": false,
     "input": [
      "x_s?"
     ],
     "language": "python",
     "metadata": {},
     "outputs": [],
     "prompt_number": 64
    },
    {
     "cell_type": "markdown",
     "metadata": {},
     "source": [
      "#### Generate y values\n",
      "1. what does the \"squeeze\" method do?\n",
      "2. why do we include X when we generate y?\n",
      "3. what happens to y when we change the numbers around?"
     ]
    },
    {
     "cell_type": "code",
     "collapsed": false,
     "input": [
      "y = 40 + 8 * X + np.random.normal(size=20)*5\n",
      "y"
     ],
     "language": "python",
     "metadata": {},
     "outputs": [
      {
       "metadata": {},
       "output_type": "pyout",
       "prompt_number": 142,
       "text": [
        "array([  42.79985673,   58.0563978 ,   53.56782328,   51.70334349,\n",
        "         70.88912252,   67.57010164,   71.76959135,   70.00134306,\n",
        "         81.5882801 ,   84.41191839,   77.62178071,   82.75705993,\n",
        "         95.69684242,   93.02934921,  105.51901337,  106.77591109,\n",
        "        108.60590759,  107.77035266,  108.74015872,  122.34369634])"
       ]
      }
     ],
     "prompt_number": 142
    },
    {
     "cell_type": "markdown",
     "metadata": {},
     "source": [
      "#### Guess the output of each line in the following cell"
     ]
    },
    {
     "cell_type": "code",
     "collapsed": false,
     "input": [
      "print y.shape\n",
      "X = X.reshape(20,1)\n",
      "X.shape"
     ],
     "language": "python",
     "metadata": {},
     "outputs": [
      {
       "output_type": "stream",
       "stream": "stdout",
       "text": [
        "(20,)\n"
       ]
      },
      {
       "metadata": {},
       "output_type": "pyout",
       "prompt_number": 129,
       "text": [
        "(20, 1)"
       ]
      }
     ],
     "prompt_number": 129
    },
    {
     "cell_type": "code",
     "collapsed": false,
     "input": [
      "# Visualize this training dataset\n",
      "plt.figure(figsize=(10,3));\n",
      "plt.plot(X,y, 'o')"
     ],
     "language": "python",
     "metadata": {},
     "outputs": [
      {
       "metadata": {},
       "output_type": "pyout",
       "prompt_number": 143,
       "text": [
        "[<matplotlib.lines.Line2D at 0x1186f0cd0>]"
       ]
      },
      {
       "metadata": {},
       "output_type": "display_data",
       "png": "[encoded data removed]",
       "text": [
        "<matplotlib.figure.Figure at 0x118696190>"
       ]
      }
     ],
     "prompt_number": 143
    },
    {
     "cell_type": "markdown",
     "metadata": {},
     "source": [
      "#### Create a model and fit a linear regression to it"
     ]
    },
    {
     "cell_type": "code",
     "collapsed": false,
     "input": [
      "model = LinearRegression(fit_intercept=True)\n",
      "model.fit(X.reshape(20,1), y)\n",
      "print (\"Model coefficient: %.5f, and intercept: %.5f\"\n",
      "       % (model.coef_, model.intercept_))\n"
     ],
     "language": "python",
     "metadata": {},
     "outputs": [
      {
       "output_type": "stream",
       "stream": "stdout",
       "text": [
        "Model coefficient: 7.83498, and intercept: 39.96852\n"
       ]
      }
     ],
     "prompt_number": 144
    },
    {
     "cell_type": "markdown",
     "metadata": {},
     "source": [
      "#### Plot the data and the model prediction\n",
      "1. what does np.linspace do?\n",
      "2. why do we need to reshape it?"
     ]
    },
    {
     "cell_type": "code",
     "collapsed": false,
     "input": [
      "X_test = np.linspace(0, 10, 100).reshape(100,1)\n",
      "y_hat = model.predict(X_test)"
     ],
     "language": "python",
     "metadata": {},
     "outputs": [],
     "prompt_number": 149
    },
    {
     "cell_type": "markdown",
     "metadata": {},
     "source": [
      "#### Plot the train data and regression!"
     ]
    },
    {
     "cell_type": "code",
     "collapsed": false,
     "input": [
      "plt.plot(X, y, 'o')\n",
      "plt.plot(X_test, y_hat)"
     ],
     "language": "python",
     "metadata": {},
     "outputs": [
      {
       "metadata": {},
       "output_type": "pyout",
       "prompt_number": 150,
       "text": [
        "[<matplotlib.lines.Line2D at 0x1189d4a50>]"
       ]
      },
      {
       "metadata": {},
       "output_type": "display_data",
       "png": "[encoded data removed]",
       "text": [
        "<matplotlib.figure.Figure at 0x1189afc50>"
       ]
      }
     ],
     "prompt_number": 150
    },
    {
     "cell_type": "code",
     "collapsed": false,
     "input": [],
     "language": "python",
     "metadata": {},
     "outputs": [],
     "prompt_number": 85
    },
    {
     "cell_type": "code",
     "collapsed": false,
     "input": [],
     "language": "python",
     "metadata": {},
     "outputs": []
    }
   ],
   "metadata": {}
  }
 ]
}