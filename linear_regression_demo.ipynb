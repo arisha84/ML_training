{
 "metadata": {
  "name": "",
  "signature": "sha256:06f21eeded2bf4a5f34f787498535966b65b2a46ec3b94f3baf98d5730b7ce78"
 },
 "nbformat": 3,
 "nbformat_minor": 0,
 "worksheets": [
  {
   "cells": [
    {
     "cell_type": "code",
     "collapsed": false,
     "input": [
      "import pandas as pd\n",
      "import numpy as np\n",
      "import matplotlib.pyplot as plt\n",
      "#import seaborn as sns\n",
      "from sklearn.linear_model import LinearRegression\n",
      "\n",
      "from IPython.display import Image\n",
      "%matplotlib inline"
     ],
     "language": "python",
     "metadata": {},
     "outputs": [],
     "prompt_number": 2
    },
    {
     "cell_type": "code",
     "collapsed": false,
     "input": [
      "pwd"
     ],
     "language": "python",
     "metadata": {},
     "outputs": [
      {
       "metadata": {},
       "output_type": "pyout",
       "prompt_number": 3,
       "text": [
        "u'/Users/asharon/MyDataScienceToolbox/ML_training'"
       ]
      }
     ],
     "prompt_number": 3
    },
    {
     "cell_type": "markdown",
     "metadata": {},
     "source": [
      "### Steps:\n",
      "\n",
      "1. Create random training data for X and y\n",
      "2. Visualize\n",
      "3. Create sklearn Linear Regression Model and fit training data to it\n",
      "4. Create test input data, plug it into the model, and get predicted values for y (y_hat)\n",
      "5. Visualize"
     ]
    },
    {
     "cell_type": "markdown",
     "metadata": {},
     "source": [
      "#### Create some random data"
     ]
    },
    {
     "cell_type": "code",
     "collapsed": false,
     "input": [
      "np.random.seed(0)"
     ],
     "language": "python",
     "metadata": {},
     "outputs": [],
     "prompt_number": 4
    },
    {
     "cell_type": "markdown",
     "metadata": {},
     "source": [
      "#### Generate X values"
     ]
    },
    {
     "cell_type": "code",
     "collapsed": false,
     "input": [
      "#X = np.random.random(size=(20,1)) # The size of the input array is expected to be [n_samples, n_features]\n",
      "X = np.linspace(1,10,20)\n",
      "X"
     ],
     "language": "python",
     "metadata": {},
     "outputs": [
      {
       "metadata": {},
       "output_type": "pyout",
       "prompt_number": 5,
       "text": [
        "array([  1.        ,   1.47368421,   1.94736842,   2.42105263,\n",
        "         2.89473684,   3.36842105,   3.84210526,   4.31578947,\n",
        "         4.78947368,   5.26315789,   5.73684211,   6.21052632,\n",
        "         6.68421053,   7.15789474,   7.63157895,   8.10526316,\n",
        "         8.57894737,   9.05263158,   9.52631579,  10.        ])"
       ]
      }
     ],
     "prompt_number": 5
    },
    {
     "cell_type": "code",
     "collapsed": false,
     "input": [
      "print X.shape"
     ],
     "language": "python",
     "metadata": {},
     "outputs": [
      {
       "output_type": "stream",
       "stream": "stdout",
       "text": [
        "(20,)\n"
       ]
      }
     ],
     "prompt_number": 6
    },
    {
     "cell_type": "code",
     "collapsed": false,
     "input": [
      "y = 40 + 8 * X + np.random.normal(size=20)*5\n",
      "y"
     ],
     "language": "python",
     "metadata": {},
     "outputs": [
      {
       "metadata": {},
       "output_type": "pyout",
       "prompt_number": 10,
       "text": [
        "array([  56.82026173,   53.79025973,   60.47263729,   70.57288705,\n",
        "         72.49568469,   62.06097902,   75.48728419,   73.76952975,\n",
        "         77.79969521,   84.15825567,   86.6149547 ,   96.95557806,\n",
        "         97.27887284,   97.87153298,  103.27194774,  106.5104769 ,\n",
        "        116.10197431,  111.39526131,  117.77586482,  115.7295213 ])"
       ]
      }
     ],
     "prompt_number": 10
    },
    {
     "cell_type": "markdown",
     "metadata": {},
     "source": [
      "#### Guess the output of each line in the following cell"
     ]
    },
    {
     "cell_type": "code",
     "collapsed": false,
     "input": [
      "print y.shape\n",
      "X = X.reshape(20,1)\n",
      "X.shape"
     ],
     "language": "python",
     "metadata": {},
     "outputs": [
      {
       "output_type": "stream",
       "stream": "stdout",
       "text": [
        "(20,)\n"
       ]
      },
      {
       "metadata": {},
       "output_type": "pyout",
       "prompt_number": 12,
       "text": [
        "(20, 1)"
       ]
      }
     ],
     "prompt_number": 12
    },
    {
     "cell_type": "code",
     "collapsed": false,
     "input": [
      "# Visualize this training dataset\n",
      "plt.figure(figsize=(10,3));\n",
      "plt.plot(X,y, 'o')"
     ],
     "language": "python",
     "metadata": {},
     "outputs": [
      {
       "metadata": {},
       "output_type": "pyout",
       "prompt_number": 13,
       "text": [
        "[<matplotlib.lines.Line2D at 0x10d01ebd0>]"
       ]
      },
      {
       "metadata": {},
       "output_type": "display_data",
       "png": "[encoded data removed]",
       "text": [
        "<matplotlib.figure.Figure at 0x10ced9710>"
       ]
      }
     ],
     "prompt_number": 13
    },
    {
     "cell_type": "markdown",
     "metadata": {},
     "source": [
      "#### Create a model and fit a linear regression to it"
     ]
    },
    {
     "cell_type": "code",
     "collapsed": false,
     "input": [
      "model = LinearRegression(fit_intercept=True)\n",
      "model.fit(X.reshape(20,1), y)\n",
      "print (\"Model coefficient: %.5f, and intercept: %.5f\"\n",
      "       % (model.coef_, model.intercept_))\n"
     ],
     "language": "python",
     "metadata": {},
     "outputs": [
      {
       "output_type": "stream",
       "stream": "stdout",
       "text": [
        "Model coefficient: 7.36821, and intercept: 46.32153\n"
       ]
      }
     ],
     "prompt_number": 16
    },
    {
     "cell_type": "markdown",
     "metadata": {},
     "source": [
      "#### Plot the data and the model prediction\n",
      "1. what does np.linspace do?\n",
      "2. why do we need to reshape it?"
     ]
    },
    {
     "cell_type": "code",
     "collapsed": false,
     "input": [
      "X_test = np.linspace(0, 10, 100).reshape(100,1)\n",
      "y_hat = model.predict(X_test)"
     ],
     "language": "python",
     "metadata": {},
     "outputs": [],
     "prompt_number": 17
    },
    {
     "cell_type": "markdown",
     "metadata": {},
     "source": [
      "#### Plot the train data and regression!"
     ]
    },
    {
     "cell_type": "code",
     "collapsed": false,
     "input": [
      "plt.plot(X, y, 'o')\n",
      "plt.plot(X_test, y_hat)"
     ],
     "language": "python",
     "metadata": {},
     "outputs": [
      {
       "metadata": {},
       "output_type": "pyout",
       "prompt_number": 18,
       "text": [
        "[<matplotlib.lines.Line2D at 0x10d08a510>]"
       ]
      },
      {
       "metadata": {},
       "output_type": "display_data",
       "png": "[encoded data removed]",
       "text": [
        "<matplotlib.figure.Figure at 0x10d08a4d0>"
       ]
      }
     ],
     "prompt_number": 18
    },
    {
     "cell_type": "code",
     "collapsed": false,
     "input": [],
     "language": "python",
     "metadata": {},
     "outputs": [],
     "prompt_number": 85
    },
    {
     "cell_type": "code",
     "collapsed": false,
     "input": [],
     "language": "python",
     "metadata": {},
     "outputs": []
    }
   ],
   "metadata": {}
  }
 ]
}