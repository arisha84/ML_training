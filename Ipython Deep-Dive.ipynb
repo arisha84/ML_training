{
 "metadata": {
  "name": "",
  "signature": "sha256:32f1766540cdb5e2826985003e65e134dbdc2adf954a18a09c1ef3aa30e38ad0"
 },
 "nbformat": 3,
 "nbformat_minor": 0,
 "worksheets": [
  {
   "cells": [
    {
     "cell_type": "code",
     "collapsed": false,
     "input": [
      "import numpy as np\n",
      "import pandas as pd\n",
      "import sklearn\n",
      "import sklearn.linear_model as lm\n",
      "import sklearn.cross_validation as cv\n",
      "import sklearn.grid_search as gs\n",
      "import matplotlib.pyplot as plt\n",
      "import pandas as pd\n",
      "from sklearn import metrics\n",
      "from sklearn.cross_validation import train_test_split, Bootstrap\n",
      "from sklearn.datasets import make_blobs\n",
      "from sklearn.ensemble import RandomForestClassifier\n",
      "from sklearn.ensemble import ExtraTreesClassifier\n",
      "from sklearn.dummy import DummyClassifier\n",
      "from sklearn.linear_model import LogisticRegression\n",
      "from sklearn.linear_model import RandomizedLogisticRegression\n",
      "from sklearn.naive_bayes import GaussianNB, MultinomialNB, BernoulliNB\n",
      "from sklearn.neighbors import KNeighborsClassifier\n",
      "from sklearn.ensemble import RandomForestClassifier\n",
      "from sklearn.ensemble import AdaBoostClassifier\n",
      "from sklearn.tree import DecisionTreeClassifier\n",
      "from sklearn.metrics import roc_auc_score\n",
      "from IPython.display import Image\n",
      "from sklearn.decomposition import PCA\n",
      "import sklearn.grid_search as gs\n",
      "from sklearn.metrics import recall_score\n",
      "conf_matrix_image = Image(url='https://computersciencesource.files.wordpress.com/2010/01/conmat.png')\n",
      "%matplotlib inline"
     ],
     "language": "python",
     "metadata": {},
     "outputs": [],
     "prompt_number": 1
    },
    {
     "cell_type": "heading",
     "level": 1,
     "metadata": {},
     "source": [
      "Overview"
     ]
    },
    {
     "cell_type": "heading",
     "level": 3,
     "metadata": {},
     "source": [
      "The Goal of my project is optimizing video ads targeting based on historical user data. \n",
      "I am using a user categories data set from a recent Land Rover campaign, trying to build a predictive model that will predict\n",
      "the likelihood of visiting Land Rover Web Site\n",
      "\n",
      "\n",
      "\n"
     ]
    },
    {
     "cell_type": "heading",
     "level": 1,
     "metadata": {},
     "source": [
      "1. The Data Set "
     ]
    },
    {
     "cell_type": "markdown",
     "metadata": {},
     "source": [
      "The data source comes from 3rd party data providers as well as Eyeview's data on User Activities "
     ]
    },
    {
     "cell_type": "heading",
     "level": 2,
     "metadata": {},
     "source": [
      "Pre - Processing Data\n"
     ]
    },
    {
     "cell_type": "markdown",
     "metadata": {},
     "source": [
      "The original data file cotained over 40K features. To make the data more managable I created a pre processing python script\n",
      "which merged some of the features and removed others, to make the data more managable. "
     ]
    },
    {
     "cell_type": "heading",
     "level": 2,
     "metadata": {},
     "source": [
      "Load & Cleanup Data:\u00b6"
     ]
    },
    {
     "cell_type": "markdown",
     "metadata": {},
     "source": [
      "- Each row represents one user. \n",
      "- The columns (or features) are the user categories - this is our \u201cX\u201d variable. <br>\n",
      "- The target (our \"Y\" variable) is the \"Visited Brand\" column, which is a true (\"1\") if the user either visited the \n",
      "  website in the past, or clicked on an ad - I assume that this means the user is \"Intrested In the Brand\"\n",
      "\n",
      "\n"
     ]
    },
    {
     "cell_type": "code",
     "collapsed": false,
     "input": [
      "%pwd"
     ],
     "language": "python",
     "metadata": {},
     "outputs": [
      {
       "metadata": {},
       "output_type": "pyout",
       "prompt_number": 2,
       "text": [
        "u'/Users/asharon/MyDataScienceToolbox/ML_training'"
       ]
      }
     ],
     "prompt_number": 2
    },
    {
     "cell_type": "code",
     "collapsed": false,
     "input": [
      "# Download file from (and adjust file path):\n",
      "# s3://eyeview-ari/DataScience/filtered_output_for_campaign_829.csv\n",
      "data = pd.read_csv('/Users/asharon/MyDataScienceToolbox/829/filtered_output_for_campaign_829.csv')"
     ],
     "language": "python",
     "metadata": {},
     "outputs": [],
     "prompt_number": 3
    },
    {
     "cell_type": "code",
     "collapsed": false,
     "input": [
      "#data = pd.read_csv('/vagrant/829/filtered_output_for_campaign_829.csv')\n",
      "\n",
      "df = data.fillna(0)  ## replace null values with zeros\n",
      "df = df.rename(columns={'PIA': 'Visited Brand'})\n",
      "df = df.drop(['DATE','USER ID', 'CAMPAIGN ID','Retargeting', 'Clicker'], axis=1) \n",
      "df = df.ix[:,(df != 0).any(axis=0)] ## remove all columns with all zeros\n",
      "df = df.ix[(df != 0).any(axis=1),:] ## remove all rows with all zeros\n",
      "X = df.drop(['Visited Brand'], axis=1)\n",
      "Y = df['Visited Brand']"
     ],
     "language": "python",
     "metadata": {},
     "outputs": [],
     "prompt_number": 29
    },
    {
     "cell_type": "heading",
     "level": 5,
     "metadata": {},
     "source": [
      "Our data set contains 37645 rows and 1168 columns:"
     ]
    },
    {
     "cell_type": "code",
     "collapsed": false,
     "input": [
      "df.head()"
     ],
     "language": "python",
     "metadata": {},
     "outputs": [
      {
       "html": [
        "<div style=\"max-height:1000px;max-width:1500px;overflow:auto;\">\n",
        "<table border=\"1\" class=\"dataframe\">\n",
        "  <thead>\n",
        "    <tr style=\"text-align: right;\">\n",
        "      <th></th>\n",
        "      <th>Exelate 10 - General Interest - Auto Enthusiasts</th>\n",
        "      <th>Exelate 1006 - General Interest - Green Living</th>\n",
        "      <th>Exelate 1007 - Politics - Political Junkies</th>\n",
        "      <th>Exelate 10082 - Finance and Insurance - Mortgages - Mortgage Hyper-Intent</th>\n",
        "      <th>Exelate 1017 - Shopping - Mobile - Carrier: AT&amp;T</th>\n",
        "      <th>Exelate 10179 - Travel - Departure - Europe</th>\n",
        "      <th>Exelate 1018 - Shopping - Mobile - Carrier: T-Mobile</th>\n",
        "      <th>Exelate 10180 - Travel - Departure - North America</th>\n",
        "      <th>Exelate 1019 - Shopping - Mobile - Carrier: Sprint</th>\n",
        "      <th>Exelate 1020 - Shopping - Mobile - Carrier: Verizon</th>\n",
        "      <th>...</th>\n",
        "      <th>Exelate 9315 - Auto - Buyers - Make:RAM - 1500</th>\n",
        "      <th>Exelate 9321 - Auto - Buyers - Make:Tesla - Model S</th>\n",
        "      <th>Exelate 9638 - Finance and Insurance - Auto Intenders</th>\n",
        "      <th>Exelate 9969 - Finance and Insurance - Banking - Checking and Savings</th>\n",
        "      <th>Exelate 9970 - Finance and Insurance - Credit Cards - Small Business</th>\n",
        "      <th>Exelate 9989 - CPG - Dish and Dishwasher Detergent</th>\n",
        "      <th>Exelate 3211 - Services - Personal Services and Care - Children Daycare</th>\n",
        "      <th>Exelate 5106 - Entertainment - Music - Jazz/Blues</th>\n",
        "      <th>Completer</th>\n",
        "      <th>Visited Brand</th>\n",
        "    </tr>\n",
        "  </thead>\n",
        "  <tbody>\n",
        "    <tr>\n",
        "      <th>0</th>\n",
        "      <td> 0</td>\n",
        "      <td> 0</td>\n",
        "      <td> 0</td>\n",
        "      <td> 0</td>\n",
        "      <td> 0</td>\n",
        "      <td> 0</td>\n",
        "      <td> 0</td>\n",
        "      <td> 0</td>\n",
        "      <td> 0</td>\n",
        "      <td> 0</td>\n",
        "      <td>...</td>\n",
        "      <td> 0</td>\n",
        "      <td> 0</td>\n",
        "      <td> 0</td>\n",
        "      <td> 0</td>\n",
        "      <td> 0</td>\n",
        "      <td> 0</td>\n",
        "      <td> 0</td>\n",
        "      <td> 0</td>\n",
        "      <td> 1</td>\n",
        "      <td> 0</td>\n",
        "    </tr>\n",
        "    <tr>\n",
        "      <th>1</th>\n",
        "      <td> 1</td>\n",
        "      <td> 0</td>\n",
        "      <td> 0</td>\n",
        "      <td> 0</td>\n",
        "      <td> 0</td>\n",
        "      <td> 0</td>\n",
        "      <td> 0</td>\n",
        "      <td> 0</td>\n",
        "      <td> 0</td>\n",
        "      <td> 0</td>\n",
        "      <td>...</td>\n",
        "      <td> 0</td>\n",
        "      <td> 0</td>\n",
        "      <td> 0</td>\n",
        "      <td> 1</td>\n",
        "      <td> 1</td>\n",
        "      <td> 0</td>\n",
        "      <td> 0</td>\n",
        "      <td> 0</td>\n",
        "      <td> 0</td>\n",
        "      <td> 0</td>\n",
        "    </tr>\n",
        "    <tr>\n",
        "      <th>2</th>\n",
        "      <td> 1</td>\n",
        "      <td> 1</td>\n",
        "      <td> 1</td>\n",
        "      <td> 0</td>\n",
        "      <td> 0</td>\n",
        "      <td> 0</td>\n",
        "      <td> 0</td>\n",
        "      <td> 0</td>\n",
        "      <td> 0</td>\n",
        "      <td> 0</td>\n",
        "      <td>...</td>\n",
        "      <td> 0</td>\n",
        "      <td> 0</td>\n",
        "      <td> 0</td>\n",
        "      <td> 1</td>\n",
        "      <td> 1</td>\n",
        "      <td> 0</td>\n",
        "      <td> 0</td>\n",
        "      <td> 0</td>\n",
        "      <td> 1</td>\n",
        "      <td> 1</td>\n",
        "    </tr>\n",
        "    <tr>\n",
        "      <th>3</th>\n",
        "      <td> 1</td>\n",
        "      <td> 1</td>\n",
        "      <td> 1</td>\n",
        "      <td> 0</td>\n",
        "      <td> 0</td>\n",
        "      <td> 0</td>\n",
        "      <td> 0</td>\n",
        "      <td> 0</td>\n",
        "      <td> 0</td>\n",
        "      <td> 0</td>\n",
        "      <td>...</td>\n",
        "      <td> 0</td>\n",
        "      <td> 0</td>\n",
        "      <td> 1</td>\n",
        "      <td> 1</td>\n",
        "      <td> 1</td>\n",
        "      <td> 1</td>\n",
        "      <td> 0</td>\n",
        "      <td> 0</td>\n",
        "      <td> 1</td>\n",
        "      <td> 0</td>\n",
        "    </tr>\n",
        "    <tr>\n",
        "      <th>4</th>\n",
        "      <td> 1</td>\n",
        "      <td> 0</td>\n",
        "      <td> 0</td>\n",
        "      <td> 0</td>\n",
        "      <td> 0</td>\n",
        "      <td> 0</td>\n",
        "      <td> 0</td>\n",
        "      <td> 0</td>\n",
        "      <td> 0</td>\n",
        "      <td> 0</td>\n",
        "      <td>...</td>\n",
        "      <td> 0</td>\n",
        "      <td> 0</td>\n",
        "      <td> 1</td>\n",
        "      <td> 1</td>\n",
        "      <td> 1</td>\n",
        "      <td> 0</td>\n",
        "      <td> 0</td>\n",
        "      <td> 0</td>\n",
        "      <td> 1</td>\n",
        "      <td> 1</td>\n",
        "    </tr>\n",
        "  </tbody>\n",
        "</table>\n",
        "<p>5 rows \u00d7 1168 columns</p>\n",
        "</div>"
       ],
       "metadata": {},
       "output_type": "pyout",
       "prompt_number": 5,
       "text": [
        "   Exelate 10 - General Interest - Auto Enthusiasts  \\\n",
        "0                                                 0   \n",
        "1                                                 1   \n",
        "2                                                 1   \n",
        "3                                                 1   \n",
        "4                                                 1   \n",
        "\n",
        "   Exelate 1006 - General Interest - Green Living  \\\n",
        "0                                               0   \n",
        "1                                               0   \n",
        "2                                               1   \n",
        "3                                               1   \n",
        "4                                               0   \n",
        "\n",
        "   Exelate 1007 - Politics - Political Junkies  \\\n",
        "0                                            0   \n",
        "1                                            0   \n",
        "2                                            1   \n",
        "3                                            1   \n",
        "4                                            0   \n",
        "\n",
        "   Exelate 10082 - Finance and Insurance - Mortgages - Mortgage Hyper-Intent  \\\n",
        "0                                                  0                           \n",
        "1                                                  0                           \n",
        "2                                                  0                           \n",
        "3                                                  0                           \n",
        "4                                                  0                           \n",
        "\n",
        "   Exelate 1017 - Shopping - Mobile - Carrier: AT&T  \\\n",
        "0                                                 0   \n",
        "1                                                 0   \n",
        "2                                                 0   \n",
        "3                                                 0   \n",
        "4                                                 0   \n",
        "\n",
        "   Exelate 10179 - Travel - Departure - Europe  \\\n",
        "0                                            0   \n",
        "1                                            0   \n",
        "2                                            0   \n",
        "3                                            0   \n",
        "4                                            0   \n",
        "\n",
        "   Exelate 1018 - Shopping - Mobile - Carrier: T-Mobile  \\\n",
        "0                                                  0      \n",
        "1                                                  0      \n",
        "2                                                  0      \n",
        "3                                                  0      \n",
        "4                                                  0      \n",
        "\n",
        "   Exelate 10180 - Travel - Departure - North America  \\\n",
        "0                                                  0    \n",
        "1                                                  0    \n",
        "2                                                  0    \n",
        "3                                                  0    \n",
        "4                                                  0    \n",
        "\n",
        "   Exelate 1019 - Shopping - Mobile - Carrier: Sprint  \\\n",
        "0                                                  0    \n",
        "1                                                  0    \n",
        "2                                                  0    \n",
        "3                                                  0    \n",
        "4                                                  0    \n",
        "\n",
        "   Exelate 1020 - Shopping - Mobile - Carrier: Verizon      ...        \\\n",
        "0                                                  0        ...         \n",
        "1                                                  0        ...         \n",
        "2                                                  0        ...         \n",
        "3                                                  0        ...         \n",
        "4                                                  0        ...         \n",
        "\n",
        "   Exelate 9315 - Auto - Buyers - Make:RAM - 1500  \\\n",
        "0                                               0   \n",
        "1                                               0   \n",
        "2                                               0   \n",
        "3                                               0   \n",
        "4                                               0   \n",
        "\n",
        "   Exelate 9321 - Auto - Buyers - Make:Tesla - Model S  \\\n",
        "0                                                  0     \n",
        "1                                                  0     \n",
        "2                                                  0     \n",
        "3                                                  0     \n",
        "4                                                  0     \n",
        "\n",
        "   Exelate 9638 - Finance and Insurance - Auto Intenders  \\\n",
        "0                                                  0       \n",
        "1                                                  0       \n",
        "2                                                  0       \n",
        "3                                                  1       \n",
        "4                                                  1       \n",
        "\n",
        "   Exelate 9969 - Finance and Insurance - Banking - Checking and Savings  \\\n",
        "0                                                  0                       \n",
        "1                                                  1                       \n",
        "2                                                  1                       \n",
        "3                                                  1                       \n",
        "4                                                  1                       \n",
        "\n",
        "   Exelate 9970 - Finance and Insurance - Credit Cards - Small Business  \\\n",
        "0                                                  0                      \n",
        "1                                                  1                      \n",
        "2                                                  1                      \n",
        "3                                                  1                      \n",
        "4                                                  1                      \n",
        "\n",
        "   Exelate 9989 - CPG - Dish and Dishwasher Detergent  \\\n",
        "0                                                  0    \n",
        "1                                                  0    \n",
        "2                                                  0    \n",
        "3                                                  1    \n",
        "4                                                  0    \n",
        "\n",
        "   Exelate 3211 - Services - Personal Services and Care - Children Daycare  \\\n",
        "0                                                  0                         \n",
        "1                                                  0                         \n",
        "2                                                  0                         \n",
        "3                                                  0                         \n",
        "4                                                  0                         \n",
        "\n",
        "   Exelate 5106 - Entertainment - Music - Jazz/Blues  Completer  Visited Brand  \n",
        "0                                                  0          1              0  \n",
        "1                                                  0          0              0  \n",
        "2                                                  0          1              1  \n",
        "3                                                  0          1              0  \n",
        "4                                                  0          1              1  \n",
        "\n",
        "[5 rows x 1168 columns]"
       ]
      }
     ],
     "prompt_number": 5
    },
    {
     "cell_type": "heading",
     "level": 2,
     "metadata": {},
     "source": [
      "Visualize"
     ]
    },
    {
     "cell_type": "markdown",
     "metadata": {},
     "source": [
      "Lets do some simple visualization of our data, just to get a \"feel\".\n"
     ]
    },
    {
     "cell_type": "code",
     "collapsed": false,
     "input": [
      "sum_df_row = df.sum(axis=1) ## sum of each row\n",
      "plt.hist(sum_df_row,20)\n",
      "plt.xlabel('Number of features per user bucket')\n",
      "plt.ylabel('Users Count in bucket')"
     ],
     "language": "python",
     "metadata": {},
     "outputs": [
      {
       "metadata": {},
       "output_type": "pyout",
       "prompt_number": 6,
       "text": [
        "<matplotlib.text.Text at 0x10c5190d0>"
       ]
      },
      {
       "metadata": {},
       "output_type": "display_data",
       "png": "[encoded data removed]",
       "text": [
        "<matplotlib.figure.Figure at 0x10c9d1dd0>"
       ]
      }
     ],
     "prompt_number": 6
    },
    {
     "cell_type": "markdown",
     "metadata": {},
     "source": [
      "The above histogram shows the ditrubution of Number of features and user count. as expected, most users have a low number of\n",
      "features, between 0-25"
     ]
    },
    {
     "cell_type": "heading",
     "level": 5,
     "metadata": {},
     "source": [
      "Lets see which categories are the most common in our data set: "
     ]
    },
    {
     "cell_type": "code",
     "collapsed": false,
     "input": [
      "sum_df_col = df.sum(axis=0) ## sum of each column\n",
      "sum_df_col.sort(ascending=False)\n",
      "sum_df_col.head(10)"
     ],
     "language": "python",
     "metadata": {},
     "outputs": [
      {
       "metadata": {},
       "output_type": "pyout",
       "prompt_number": 30,
       "text": [
        "Completer                                                    26877\n",
        "Exelate 25 - Entertainment                                   25182\n",
        "Exelate 2 - Finance                                          20855\n",
        "Exelate 40 - Shopping                                        19625\n",
        "Exelate 3365 - General Interest - News and Current Events    17504\n",
        "Exelate 1141 - Services - Finance and Insurance - Banking    17403\n",
        "Exelate 9160 - Finance and Insurance                         17245\n",
        "Exelate 6229 - Auto Owners                                   17227\n",
        "Exelate 1438 - CPG                                           16730\n",
        "Exelate 32 - Hobbies                                         16719\n",
        "dtype: float64"
       ]
      }
     ],
     "prompt_number": 30
    },
    {
     "cell_type": "heading",
     "level": 1,
     "metadata": {},
     "source": [
      "2. Model Testing Process"
     ]
    },
    {
     "cell_type": "markdown",
     "metadata": {},
     "source": [
      "We'll start with one model to understand the basic workflow: <br>\n",
      "* Create <b>test - train</b> split: 80% of the data is used for fitting our model, 20% for testing the model.\n",
      "* Fit the model on training data (X_train, Y_train)\n",
      "* Predict probabilities of Test data (X_test) \n",
      "* Score the mofel performance by comparing predicted probabilities with actual resluts (Y_test) "
     ]
    },
    {
     "cell_type": "heading",
     "level": 3,
     "metadata": {},
     "source": [
      "2.1 Create test - train split"
     ]
    },
    {
     "cell_type": "code",
     "collapsed": false,
     "input": [
      "(X_train, X_test,\n",
      " Y_train, Y_test) = cv.train_test_split(X, Y,\n",
      "                                            test_size=.2)"
     ],
     "language": "python",
     "metadata": {},
     "outputs": []
    },
    {
     "cell_type": "heading",
     "level": 3,
     "metadata": {},
     "source": [
      "2.2 Fit model - Logistic Regression"
     ]
    },
    {
     "cell_type": "code",
     "collapsed": false,
     "input": [
      "model = LogisticRegression()\n",
      "model.fit(X_train,Y_train) "
     ],
     "language": "python",
     "metadata": {},
     "outputs": [
      {
       "metadata": {},
       "output_type": "pyout",
       "prompt_number": 13,
       "text": [
        "LogisticRegression(C=1.0, class_weight=None, dual=False, fit_intercept=True,\n",
        "          intercept_scaling=1, penalty='l2', random_state=None, tol=0.0001)"
       ]
      }
     ],
     "prompt_number": 13
    },
    {
     "cell_type": "code",
     "collapsed": false,
     "input": [
      "arr = model.coef_"
     ],
     "language": "python",
     "metadata": {},
     "outputs": [],
     "prompt_number": 31
    },
    {
     "cell_type": "heading",
     "level": 3,
     "metadata": {},
     "source": [
      "Coefficients"
     ]
    },
    {
     "cell_type": "code",
     "collapsed": false,
     "input": [
      "c_df = pd.DataFrame(arr.reshape(1167,1), columns=['coef'])\n",
      "c_df['column'] = X.columns\n",
      "c_df = c_df.sort(columns='coef',ascending=False)\n",
      "c_df[:5]"
     ],
     "language": "python",
     "metadata": {},
     "outputs": [
      {
       "html": [
        "<div style=\"max-height:1000px;max-width:1500px;overflow:auto;\">\n",
        "<table border=\"1\" class=\"dataframe\">\n",
        "  <thead>\n",
        "    <tr style=\"text-align: right;\">\n",
        "      <th></th>\n",
        "      <th>coef</th>\n",
        "      <th>column</th>\n",
        "    </tr>\n",
        "  </thead>\n",
        "  <tbody>\n",
        "    <tr>\n",
        "      <th>30 </th>\n",
        "      <td> 1.326378</td>\n",
        "      <td> Exelate 1135 - Services - Religious Organizations</td>\n",
        "    </tr>\n",
        "    <tr>\n",
        "      <th>52 </th>\n",
        "      <td> 1.194960</td>\n",
        "      <td> Exelate 11538 - Travel - Departure - North Ame...</td>\n",
        "    </tr>\n",
        "    <tr>\n",
        "      <th>58 </th>\n",
        "      <td> 1.187096</td>\n",
        "      <td> Exelate 11544 - Travel - Departure - North Ame...</td>\n",
        "    </tr>\n",
        "    <tr>\n",
        "      <th>488</th>\n",
        "      <td> 1.078829</td>\n",
        "      <td> Exelate 2819 - Travel - Destination - North Am...</td>\n",
        "    </tr>\n",
        "    <tr>\n",
        "      <th>823</th>\n",
        "      <td> 1.066772</td>\n",
        "      <td> Exelate 538 - Travel - Destination - Asia - Ho...</td>\n",
        "    </tr>\n",
        "  </tbody>\n",
        "</table>\n",
        "</div>"
       ],
       "metadata": {},
       "output_type": "pyout",
       "prompt_number": 32,
       "text": [
        "         coef                                             column\n",
        "30   1.326378  Exelate 1135 - Services - Religious Organizations\n",
        "52   1.194960  Exelate 11538 - Travel - Departure - North Ame...\n",
        "58   1.187096  Exelate 11544 - Travel - Departure - North Ame...\n",
        "488  1.078829  Exelate 2819 - Travel - Destination - North Am...\n",
        "823  1.066772  Exelate 538 - Travel - Destination - Asia - Ho..."
       ]
      }
     ],
     "prompt_number": 32
    },
    {
     "cell_type": "heading",
     "level": 3,
     "metadata": {},
     "source": [
      "2.3 Visualization - Display first 10 rows of test set, their predicted probabiliy and actual values "
     ]
    },
    {
     "cell_type": "code",
     "collapsed": false,
     "input": [
      "Y_test_predicted_prob = model.predict_proba(X_test)\n",
      "pd.DataFrame({'Prob of 1' : pd.Series(Y_test_predicted_prob[:10,1]), 'Actaul value' : Y_test[:10]  })"
     ],
     "language": "python",
     "metadata": {},
     "outputs": [
      {
       "html": [
        "<div style=\"max-height:1000px;max-width:1500px;overflow:auto;\">\n",
        "<table border=\"1\" class=\"dataframe\">\n",
        "  <thead>\n",
        "    <tr style=\"text-align: right;\">\n",
        "      <th></th>\n",
        "      <th>Actaul value</th>\n",
        "      <th>Prob of 1</th>\n",
        "    </tr>\n",
        "  </thead>\n",
        "  <tbody>\n",
        "    <tr>\n",
        "      <th>0</th>\n",
        "      <td> 0</td>\n",
        "      <td> 0.332386</td>\n",
        "    </tr>\n",
        "    <tr>\n",
        "      <th>1</th>\n",
        "      <td> 0</td>\n",
        "      <td> 0.139763</td>\n",
        "    </tr>\n",
        "    <tr>\n",
        "      <th>2</th>\n",
        "      <td> 0</td>\n",
        "      <td> 0.169226</td>\n",
        "    </tr>\n",
        "    <tr>\n",
        "      <th>3</th>\n",
        "      <td> 0</td>\n",
        "      <td> 0.285114</td>\n",
        "    </tr>\n",
        "    <tr>\n",
        "      <th>4</th>\n",
        "      <td> 0</td>\n",
        "      <td> 0.165763</td>\n",
        "    </tr>\n",
        "    <tr>\n",
        "      <th>5</th>\n",
        "      <td> 0</td>\n",
        "      <td> 0.175205</td>\n",
        "    </tr>\n",
        "    <tr>\n",
        "      <th>6</th>\n",
        "      <td> 1</td>\n",
        "      <td> 0.188574</td>\n",
        "    </tr>\n",
        "    <tr>\n",
        "      <th>7</th>\n",
        "      <td> 0</td>\n",
        "      <td> 0.178541</td>\n",
        "    </tr>\n",
        "    <tr>\n",
        "      <th>8</th>\n",
        "      <td> 1</td>\n",
        "      <td> 0.556371</td>\n",
        "    </tr>\n",
        "    <tr>\n",
        "      <th>9</th>\n",
        "      <td> 0</td>\n",
        "      <td> 0.150362</td>\n",
        "    </tr>\n",
        "  </tbody>\n",
        "</table>\n",
        "</div>"
       ],
       "metadata": {},
       "output_type": "pyout",
       "prompt_number": 33,
       "text": [
        "   Actaul value  Prob of 1\n",
        "0             0   0.332386\n",
        "1             0   0.139763\n",
        "2             0   0.169226\n",
        "3             0   0.285114\n",
        "4             0   0.165763\n",
        "5             0   0.175205\n",
        "6             1   0.188574\n",
        "7             0   0.178541\n",
        "8             1   0.556371\n",
        "9             0   0.150362"
       ]
      }
     ],
     "prompt_number": 33
    },
    {
     "cell_type": "code",
     "collapsed": false,
     "input": [
      "printPredictionPlot(Y_test_predicted_prob, Y_test)"
     ],
     "language": "python",
     "metadata": {},
     "outputs": [
      {
       "ename": "NameError",
       "evalue": "name 'printPredictionPlot' is not defined",
       "output_type": "pyerr",
       "traceback": [
        "\u001b[0;31m---------------------------------------------------------------------------\u001b[0m\n\u001b[0;31mNameError\u001b[0m                                 Traceback (most recent call last)",
        "\u001b[0;32m<ipython-input-34-aae3d77665d6>\u001b[0m in \u001b[0;36m<module>\u001b[0;34m()\u001b[0m\n\u001b[0;32m----> 1\u001b[0;31m \u001b[0mprintPredictionPlot\u001b[0m\u001b[0;34m(\u001b[0m\u001b[0mY_test_predicted_prob\u001b[0m\u001b[0;34m,\u001b[0m \u001b[0mY_test\u001b[0m\u001b[0;34m)\u001b[0m\u001b[0;34m\u001b[0m\u001b[0m\n\u001b[0m",
        "\u001b[0;31mNameError\u001b[0m: name 'printPredictionPlot' is not defined"
       ]
      }
     ],
     "prompt_number": 34
    },
    {
     "cell_type": "heading",
     "level": 2,
     "metadata": {},
     "source": [
      "2.4 Scoring Method"
     ]
    },
    {
     "cell_type": "heading",
     "level": 3,
     "metadata": {},
     "source": [
      "2.4.1 Confusion Matrix"
     ]
    },
    {
     "cell_type": "code",
     "collapsed": false,
     "input": [
      "def printConfusionMatrix(model, threshold, X_train, X_test, Y_train, Y_test):\n",
      "    \n",
      "    model.fit(X_train,Y_train) \n",
      "    y_pred = predictWithThreshhold(model, threshold, X_test)\n",
      "    \n",
      "    c_m =  metrics.confusion_matrix(Y_test, y_pred) \n",
      "    print c_m\n",
      "    \n",
      "    \n",
      "def predictWithThreshhold(model, threshhold, x_test):\n",
      "    \n",
      "    prob = model.predict_proba(x_test)\n",
      "    return map(lambda x: 1 if x[1] > threshhold else 0, prob)\n",
      "\n",
      "\n",
      "printConfusionMatrix(LogisticRegression(), 0.5, X_train, X_test, Y_train, Y_test)\n",
      "print 'accuracy score: ',model.score(X_test,Y_test) #Returns the mean accuracy\n",
      "conf_matrix_image"
     ],
     "language": "python",
     "metadata": {},
     "outputs": [
      {
       "output_type": "stream",
       "stream": "stdout",
       "text": [
        "[[4868  474]\n",
        " [1600  587]]\n",
        "accuracy score:  0.724531810333\n"
       ]
      },
      {
       "html": [
        "<img src=\"https://computersciencesource.files.wordpress.com/2010/01/conmat.png\"/>"
       ],
       "metadata": {},
       "output_type": "pyout",
       "prompt_number": 46,
       "text": [
        "<IPython.core.display.Image at 0x10c8e5790>"
       ]
      }
     ],
     "prompt_number": 46
    },
    {
     "cell_type": "heading",
     "level": 3,
     "metadata": {},
     "source": [
      "2.4.2 - Roc_Auc"
     ]
    },
    {
     "cell_type": "heading",
     "level": 4,
     "metadata": {},
     "source": [
      "Roc_auc is the best scoring method for our problem as it takes into accout all the different possible thresholds.<br> In addition, roc_auc works for highly unbalanced classes. <br> Choosing the actual threshold is more of a business decision - do I want to maximize TP Rate or minimize FP rate"
     ]
    },
    {
     "cell_type": "code",
     "collapsed": false,
     "input": [
      "prob_array = np.array(Y_test_predicted_prob)\n",
      "y_predicted_prob = prob_array[:,1]\n",
      "score_roc_auc = roc_auc_score(Y_test, y_predicted_prob)   \n",
      "print \"Roc Score: \", score_roc_auc"
     ],
     "language": "python",
     "metadata": {},
     "outputs": [
      {
       "output_type": "stream",
       "stream": "stdout",
       "text": [
        "Roc Score:  0.702166599439\n"
       ]
      }
     ],
     "prompt_number": 26
    },
    {
     "cell_type": "code",
     "collapsed": false,
     "input": [
      "display_roc_curve(Y_test, Y_test_predicted_prob)"
     ],
     "language": "python",
     "metadata": {},
     "outputs": []
    },
    {
     "cell_type": "heading",
     "level": 1,
     "metadata": {},
     "source": [
      "3. Model selection - find best model"
     ]
    },
    {
     "cell_type": "heading",
     "level": 4,
     "metadata": {},
     "source": [
      "Model Tester automates the model testing process and allows us to easily test different models.(See implementaion in the end of this notebook)"
     ]
    },
    {
     "cell_type": "code",
     "collapsed": false,
     "input": [
      "from sklearn.ensemble import AdaBoostClassifier\n",
      "classifiers = {'Logistic': LogisticRegression(),\n",
      "               'BernoulliNB': BernoulliNB(),                                     \n",
      "               'RandomForest': RandomForestClassifier(),\n",
      "               'AdaBoostClassifier' : AdaBoostClassifier()\n",
      "               }\n",
      "\n",
      "modelTester = ModelTester(X,Y,classifiers)\n",
      "## test_classifiers recieves the number of times to run each model (each time\n",
      "## on different training set). In this case - 3 times\n",
      "modelTester.test_classifiers(3) "
     ],
     "language": "python",
     "metadata": {},
     "outputs": [
      {
       "output_type": "stream",
       "stream": "stdout",
       "text": [
        "testing model:  RandomForest\n",
        "RandomForest had an average roc_auc score of 0.649 \n"
       ]
      },
      {
       "output_type": "stream",
       "stream": "stdout",
       "text": [
        "\n",
        "testing model:  BernoulliNB\n",
        "BernoulliNB had an average roc_auc score of 0.631 \n"
       ]
      },
      {
       "output_type": "stream",
       "stream": "stdout",
       "text": [
        "\n",
        "testing model:  AdaBoostClassifier\n",
        "AdaBoostClassifier had an average roc_auc score of 0.708 \n"
       ]
      },
      {
       "output_type": "stream",
       "stream": "stdout",
       "text": [
        "\n",
        "testing model:  Logistic\n",
        "Logistic had an average roc_auc score of 0.697 \n"
       ]
      },
      {
       "output_type": "stream",
       "stream": "stdout",
       "text": [
        "\n"
       ]
      }
     ],
     "prompt_number": 48
    },
    {
     "cell_type": "code",
     "collapsed": false,
     "input": [
      "class ModelTester:\n",
      "    def __init__(self, X, Y,classifiers):\n",
      "        self.X_matrix = X\n",
      "        self.Y_vector = Y        \n",
      "        self.classifiers = classifiers\n",
      "        self.printConfusionMatrix = False\n",
      "        self.verbose = False\n",
      "        \n",
      "        \n",
      "        \n",
      "    def runClassifier(self, X,Y, clf, times): \n",
      "        sum_scores = 0.0\n",
      "        sum_scores_roc_auc = 0.0\n",
      "        conf_matrix = None\n",
      "        conf_matrix = np.array([[0,0], [0,0]])\n",
      "        printCurve = False\n",
      "\n",
      "        for i in range(times):\n",
      "             (X_train, X_test,\n",
      "             y_train, y_test) = cv.train_test_split(X, Y,\n",
      "                                                test_size=.2)\n",
      "             clf.fit(X_train,y_train)\n",
      "             self.clf_ = clf   \n",
      "             prob_array = np.array(clf.predict_proba(X_test))\n",
      "             y_hat = prob_array[:,1]\n",
      "             y_pred = clf.predict(X_test)\n",
      "             roc_score = roc_auc_score(y_test, y_hat)  \n",
      "             if self.verbose:   \n",
      "                 print \"current roc score: \", roc_score  \n",
      "             if printCurve:                        \n",
      "                 display_roc_curve(y_test,prob_array)\n",
      "                 printCurve = False       \n",
      "             sum_scores_roc_auc += roc_score      \n",
      "             sum_scores += recall_score(y_test, y_pred)\n",
      "             if (self.printConfusionMatrix):                 \n",
      "                conf_matrix += metrics.confusion_matrix(y_test, y_pred)       \n",
      "\n",
      "             #print \"%s had an accuracy score of %0.2f\"% (name, score)            \n",
      "        return sum_scores / times, sum_scores_roc_auc / times, conf_matrix / times\n",
      "\n",
      "    def test_classifiers(self, times):\n",
      "        for name, clf in self.classifiers.items():\n",
      "            print \"testing model: \", name\n",
      "            score, score_roc_auc, conf_matrix = self.runClassifier(self.X_matrix,self.Y_vector,clf, times)   \n",
      "            #print \"%s had an average recall score of %0.3f, and roc_auc score of %0.2f\"% (name, score, score_roc_auc)\n",
      "            print \"%s had an average roc_auc score of %0.3f \\n\"% (name, score_roc_auc)\n",
      "            if (self.printConfusionMatrix):\n",
      "                print \"confusion matrix: \"\n",
      "                print conf_matrix\n",
      "    \n"
     ],
     "language": "python",
     "metadata": {},
     "outputs": [],
     "prompt_number": 47
    },
    {
     "cell_type": "heading",
     "level": 1,
     "metadata": {},
     "source": [
      "4. Optimize models with grid search "
     ]
    },
    {
     "cell_type": "heading",
     "level": 4,
     "metadata": {},
     "source": [
      "Grid search allows us to easily test different parameters for each model. ModelOptimizer is a class that automates gridSearch on multiple models (see implementation in the end of this notebook)"
     ]
    },
    {
     "cell_type": "code",
     "collapsed": false,
     "input": [
      "modelOptimizer= ModelOptimizer(X, Y)\n",
      "modelOptimizer.add_model(\"BernoulliNB\",BernoulliNB(),param_grid={'alpha':np.linspace(0.01, .2, 5)} )\n",
      "modelOptimizer.add_model(\"Logistic\",LogisticRegression(),param_grid={'C':np.linspace(0.0001, 0.2, 10)})\n",
      "modelOptimizer.add_model(\"RandomForest\",RandomForestClassifier(),param_grid={'max_depth':range(5,9,1),'n_estimators':[90,200,300], 'max_features' : ['sqrt', 'log2'] } )\n",
      "modelOptimizer.add_model(\"AdaBoostClassifier\",AdaBoostClassifier(),param_grid={'n_estimators':[90,200,300] })\n",
      "modelOptimizer.test_models()"
     ],
     "language": "python",
     "metadata": {},
     "outputs": [
      {
       "output_type": "stream",
       "stream": "stdout",
       "text": [
        "BernoulliNB: \n",
        "------------------------\n",
        "score: 0.624579355793\n",
        "best estomator:  BernoulliNB(alpha=0.15250000000000002, binarize=0.0, class_prior=None,\n",
        "      fit_prior=True)\n",
        "best params:  {'alpha': 0.15250000000000002}\n",
        "\n",
        "Logistic: \n",
        "------------------------\n",
        "score: 0.703818914304\n",
        "best estomator:  LogisticRegression(C=0.022311111111111111, class_weight=None, dual=False,\n",
        "          fit_intercept=True, intercept_scaling=1, penalty='l2',\n",
        "          random_state=None, tol=0.0001)\n",
        "best params:  {'C': 0.022311111111111111}\n",
        "\n",
        "RandomForest: "
       ]
      },
      {
       "output_type": "stream",
       "stream": "stdout",
       "text": [
        "\n",
        "------------------------\n",
        "score: 0.700338800137\n",
        "best estomator:  RandomForestClassifier(bootstrap=True, compute_importances=None,\n",
        "            criterion='gini', max_depth=8, max_features='sqrt',\n",
        "            max_leaf_nodes=None, min_density=None, min_samples_leaf=1,\n",
        "            min_samples_split=2, n_estimators=300, n_jobs=1,\n",
        "            oob_score=False, random_state=None, verbose=0)\n",
        "best params:  {'max_features': 'sqrt', 'n_estimators': 300, 'max_depth': 8}\n",
        "\n",
        "AdaBoostClassifier: "
       ]
      },
      {
       "output_type": "stream",
       "stream": "stdout",
       "text": [
        "\n",
        "------------------------\n",
        "score: 0.701937078252\n",
        "best estomator:  AdaBoostClassifier(algorithm='SAMME.R', base_estimator=None,\n",
        "          learning_rate=1.0, n_estimators=90, random_state=None)\n",
        "best params:  {'n_estimators': 90}\n",
        "\n"
       ]
      }
     ],
     "prompt_number": 39
    },
    {
     "cell_type": "heading",
     "level": 3,
     "metadata": {},
     "source": [
      "The best models are: RandomForest, LogisticRegression and AdaBoost"
     ]
    },
    {
     "cell_type": "heading",
     "level": 1,
     "metadata": {},
     "source": [
      "5. Additional Optimization attempts"
     ]
    },
    {
     "cell_type": "heading",
     "level": 3,
     "metadata": {},
     "source": [
      "5.1 Remove features with less than 10000 users"
     ]
    },
    {
     "cell_type": "code",
     "collapsed": false,
     "input": [
      "df_filtered = df.ix[:,df.sum(axis=0) > 10000]\n",
      "X_filtered = df_filtered.drop(['Visited Brand'], axis=1)\n",
      "Y_filtered = df['Visited Brand']"
     ],
     "language": "python",
     "metadata": {},
     "outputs": [],
     "prompt_number": 51
    },
    {
     "cell_type": "code",
     "collapsed": false,
     "input": [
      "X_filtered.shape"
     ],
     "language": "python",
     "metadata": {},
     "outputs": [
      {
       "metadata": {},
       "output_type": "pyout",
       "prompt_number": 53,
       "text": [
        "(37645, 50)"
       ]
      }
     ],
     "prompt_number": 53
    },
    {
     "cell_type": "code",
     "collapsed": false,
     "input": [
      "modelTester = ModelTester(X_filtered,Y_filtered,{'Logistic': LogisticRegression()})\n",
      "modelTester.test_classifiers(3) "
     ],
     "language": "python",
     "metadata": {},
     "outputs": [
      {
       "output_type": "stream",
       "stream": "stdout",
       "text": [
        "testing model:  Logistic\n",
        "Logistic had an average roc_auc score of 0.699 \n"
       ]
      },
      {
       "output_type": "stream",
       "stream": "stdout",
       "text": [
        "\n"
       ]
      }
     ],
     "prompt_number": 54
    },
    {
     "cell_type": "code",
     "collapsed": false,
     "input": [
      "arr = modelTester.clf_.coef_\n",
      "arr.shape"
     ],
     "language": "python",
     "metadata": {},
     "outputs": [
      {
       "metadata": {},
       "output_type": "pyout",
       "prompt_number": 55,
       "text": [
        "(1, 50)"
       ]
      }
     ],
     "prompt_number": 55
    },
    {
     "cell_type": "code",
     "collapsed": false,
     "input": [
      "c_df = pd.DataFrame(arr.reshape(50,1), columns=['coef'])\n",
      "c_df['column'] = X_filtered.columns\n",
      "c_df = c_df.sort(columns='coef',ascending=False)\n",
      "#c_df\n",
      "#tmp = df[['Exelate 222 - Auto - Buyers - Make:BMW', 'Visited Brand']]\n",
      "#tmp[tmp['Exelate 222 - Auto - Buyers - Make:BMW'] == 1]"
     ],
     "language": "python",
     "metadata": {},
     "outputs": [],
     "prompt_number": 59
    },
    {
     "cell_type": "code",
     "collapsed": false,
     "input": [
      "modelOptimizer= ModelOptimizer(X_filtered, Y_filtered)\n",
      "modelOptimizer.add_model(\"BernoulliNB\",BernoulliNB(),param_grid={'alpha':np.linspace(0.01, .2, 5)} )\n",
      "modelOptimizer.add_model(\"Logistic\",LogisticRegression(),param_grid={'C':np.linspace(0.0001, 0.2, 10)})\n",
      "modelOptimizer.add_model(\"RandomForest\",RandomForestClassifier(),param_grid={'max_depth':range(5,9,1),'n_estimators':[90,200,300], 'max_features' : ['sqrt', 'log2'] } )\n",
      "modelOptimizer.add_model(\"AdaBoostClassifier\",AdaBoostClassifier(),param_grid={'n_estimators':[90,200,300] })\n",
      "modelOptimizer.test_models()"
     ],
     "language": "python",
     "metadata": {},
     "outputs": []
    },
    {
     "cell_type": "code",
     "collapsed": false,
     "input": [
      "#tmp = df[['Exelate 222 - Auto - Buyers - Make:BMW', 'Visited Brand']]\n",
      "#tmp[tmp['Exelate 222 - Auto - Buyers - Make:BMW'] == 1]"
     ],
     "language": "python",
     "metadata": {},
     "outputs": []
    },
    {
     "cell_type": "code",
     "collapsed": false,
     "input": [
      "testDataFrame(df_filtered)"
     ],
     "language": "python",
     "metadata": {},
     "outputs": [
      {
       "output_type": "stream",
       "stream": "stdout",
       "text": [
        "(37645, 811)\n"
       ]
      },
      {
       "output_type": "stream",
       "stream": "stdout",
       "text": [
        "BernoulliNB: \n",
        "------------------------\n",
        "score: 0.62370416378\n",
        "best estomator:  BernoulliNB(alpha=0.03111111111111111, binarize=0.0, class_prior=None,\n",
        "      fit_prior=True)\n",
        "best params:  {'alpha': 0.03111111111111111}\n",
        "\n",
        "Logistic: \n",
        "------------------------\n",
        "score: 0.702768092924\n",
        "best estomator:  LogisticRegression(C=0.10000000000000001, class_weight=None, dual=False,\n",
        "          fit_intercept=True, intercept_scaling=1, penalty='l2',\n",
        "          random_state=None, tol=0.0001)\n",
        "best params:  {'C': 0.10000000000000001}\n",
        "\n",
        "RandomForest: \n",
        "------------------------\n",
        "score: 0.697006533111\n",
        "best estomator:  RandomForestClassifier(bootstrap=True, compute_importances=None,\n",
        "            criterion='gini', max_depth=6, max_features='auto',\n",
        "            max_leaf_nodes=None, min_density=None, min_samples_leaf=1,\n",
        "            min_samples_split=2, n_estimators=10, n_jobs=1,\n",
        "            oob_score=False, random_state=None, verbose=0)\n",
        "best params:  {'max_depth': 6}\n",
        "\n"
       ]
      }
     ],
     "prompt_number": 221
    },
    {
     "cell_type": "heading",
     "level": 3,
     "metadata": {},
     "source": [
      "5.2 Dimension Reduction with Principal component analysis (PCA)"
     ]
    },
    {
     "cell_type": "code",
     "collapsed": false,
     "input": [
      "from sklearn.decomposition import PCA\n",
      "from sklearn.decomposition import SparsePCA\n",
      "sk_pca = PCA(n_components=200)\n",
      "sk_transf = sk_pca.fit_transform(X)\n",
      "explained_variance = [sk_pca.explained_variance_ratio_[0:i].sum() for i in range(200)]\n",
      "plot(range(200),explained_variance)"
     ],
     "language": "python",
     "metadata": {},
     "outputs": [
      {
       "metadata": {},
       "output_type": "pyout",
       "prompt_number": 7,
       "text": [
        "[<matplotlib.lines.Line2D at 0x7fc4137ae950>]"
       ]
      },
      {
       "metadata": {},
       "output_type": "display_data",
       "png": "[encoded data removed]",
       "text": [
        "<matplotlib.figure.Figure at 0x7fc426b28bd0>"
       ]
      }
     ],
     "prompt_number": 7
    },
    {
     "cell_type": "code",
     "collapsed": false,
     "input": [
      "modelOptimizer= ModelOptimizer(sk_transf, Y)\n",
      "modelOptimizer.add_model(\"Logistic\",LogisticRegression(),param_grid={'C':np.linspace(0.0001, 0.2, 10)})\n",
      "modelOptimizer.add_model(\"RandomForest\",RandomForestClassifier(),param_grid={'max_depth':range(5,9,1),'n_estimators':[90,200,300], 'max_features' : ['sqrt', 'log2'] } )\n",
      "modelOptimizer.test_models()"
     ],
     "language": "python",
     "metadata": {},
     "outputs": [
      {
       "output_type": "stream",
       "stream": "stdout",
       "text": [
        "Logistic: \n",
        "------------------------\n",
        "score: 0.706454594861\n",
        "best estomator:  LogisticRegression(C=0.022311111111111111, class_weight=None, dual=False,\n",
        "          fit_intercept=True, intercept_scaling=1, penalty='l2',\n",
        "          random_state=None, tol=0.0001)\n",
        "best params:  {'C': 0.022311111111111111}\n",
        "\n",
        "RandomForest: "
       ]
      },
      {
       "output_type": "stream",
       "stream": "stdout",
       "text": [
        "\n",
        "------------------------\n",
        "score: 0.686392906132\n",
        "best estomator:  RandomForestClassifier(bootstrap=True, compute_importances=None,\n",
        "            criterion='gini', max_depth=8, max_features='sqrt',\n",
        "            max_leaf_nodes=None, min_density=None, min_samples_leaf=1,\n",
        "            min_samples_split=2, n_estimators=300, n_jobs=1,\n",
        "            oob_score=False, random_state=None, verbose=0)\n",
        "best params:  {'max_features': 'sqrt', 'n_estimators': 300, 'max_depth': 8}\n",
        "\n"
       ]
      }
     ],
     "prompt_number": 8
    },
    {
     "cell_type": "heading",
     "level": 1,
     "metadata": {},
     "source": [
      "6. Summary"
     ]
    },
    {
     "cell_type": "markdown",
     "metadata": {},
     "source": [
      "* We learned that the best models for this data set are random forest, AdaBoost and logistic regression. \n",
      "* Tweaking the different models showed some improvement, although not very significant. Feature selection is more important! \n",
      "* In this example, we use a pretty small data set. Using a larger Data set will \n",
      "  very likely improve our results. \n",
      "* We can use PCA to reduce the features dimension. \n",
      "\n"
     ]
    },
    {
     "cell_type": "heading",
     "level": 2,
     "metadata": {},
     "source": [
      "Future Work"
     ]
    },
    {
     "cell_type": "markdown",
     "metadata": {},
     "source": [
      "* Working with larger data sets - use sparse matrix libraries and chunk data loading when the data is too big to \n",
      "  fit in memory\n",
      "* Working with <b> VERY </b> large data sets - use Java Mahout to run model on a distributed system. \n",
      "* Practical uses - test performance, we have very strict performance requirments in the bidder, model must be able to run on a  \n",
      "  single line in less than 20ms. \n",
      "* Try to give weights to features rather than users."
     ]
    },
    {
     "cell_type": "code",
     "collapsed": false,
     "input": [],
     "language": "python",
     "metadata": {},
     "outputs": []
    },
    {
     "cell_type": "heading",
     "level": 1,
     "metadata": {},
     "source": [
      "7. Implementaion"
     ]
    },
    {
     "cell_type": "code",
     "collapsed": false,
     "input": [
      "def testDataFrame(df):   \n",
      "    X = df.drop(['Visited Brand'], axis=1)\n",
      "    Y = df['Visited Brand']\n",
      "    modelOptimizer= ModelOptimizer(X, Y)\n",
      "    modelOptimizer.add_model(\"Logistic\",LogisticRegression(),param_grid={'C':np.linspace(0.1, 0.4, 14)} )\n",
      "    modelOptimizer.add_model(\"RandomForest\",RandomForestClassifier(),param_grid={'max_depth':range(4,8,1)} )\n",
      "    modelOptimizer.test_models()"
     ],
     "language": "python",
     "metadata": {},
     "outputs": [],
     "prompt_number": 16
    },
    {
     "cell_type": "code",
     "collapsed": false,
     "input": [
      "class ModelOptimizer:\n",
      "    def __init__(self, x, y):\n",
      "        self.models = []\n",
      "    \n",
      "        (x_train, x_test,\n",
      "         y_train, y_test) = cv.train_test_split(x, y,\n",
      "                                        test_size=.2)\n",
      "        self.x_train = x_train\n",
      "        self.x_test = x_test\n",
      "        self.y_train = y_train\n",
      "        self.y_test = y_test\n",
      "        \n",
      "        \n",
      "    def add_model(self, name, model, param_grid={}):\n",
      "        optimized_model = gs.GridSearchCV(model, param_grid, scoring='roc_auc', n_jobs=4, cv=3) \n",
      "        optimized_model.fit(self.x_train, self.y_train)\n",
      "        data = {\n",
      "            'name':name,           \n",
      "            'model': optimized_model\n",
      "        }\n",
      "        self.models.append(data)\n",
      "        \n",
      "    def test_models(self):\n",
      "        for model in self.models:            \n",
      "            prob_array = np.array( model['model'].predict_proba(self.x_test))\n",
      "            y_hat = prob_array[:,1]\n",
      "            score = roc_auc_score(self.y_test, y_hat)     \n",
      "            #score = model['model'].score(self.x_test, self.y_test)\n",
      "            print \"%s: \" % model['name'] \n",
      "            print \"------------------------\"\n",
      "            print \"score: %s\" % (score)\n",
      "            print \"best estomator: \" ,model['model'].best_estimator_\n",
      "            print \"best params: \" , model['model'].best_params_\n",
      "            print \"\""
     ],
     "language": "python",
     "metadata": {},
     "outputs": [],
     "prompt_number": 58
    },
    {
     "cell_type": "code",
     "collapsed": false,
     "input": [
      "from sklearn.metrics import roc_curve, auc\n",
      "def display_roc_curve(ytest, y_prob):\n",
      "    false_pos_rate, true_pos_rate, thresholds = roc_curve(ytest, y_prob[:, 1])\n",
      "    roc_auc = auc(false_pos_rate, true_pos_rate)\n",
      "    # Plot ROC curve\n",
      "    # setup figure\n",
      "    plt.figure(figsize=(5, 4))\n",
      "    plt.clf()\n",
      "    plt.plot(false_pos_rate, true_pos_rate, label='ROC curve (area = %0.2f)' % roc_auc)\n",
      "    plt.plot([0, 1], [0, 1], 'k--')\n",
      "    plt.xlim([0.0, 1.0])\n",
      "    plt.ylim([0.0, 1.0])\n",
      "    plt.xlabel('False Positive Rate')\n",
      "    plt.ylabel('True Positive Rate')\n",
      "    plt.title('Receiver operating characteristic')\n",
      "    plt.legend(loc=\"lower right\")\n",
      "    plt.show()\n",
      "\n",
      "def printPredictionPlot(Y_test_predicted_prob, Y_test):\n",
      "    prob_df = pd.DataFrame(Y_test_predicted_prob[:10], columns=['0 predicted prob', '1 predicted prob'])\n",
      "    prob_df ['actual value'] = Y_test[:10]\n",
      "    pd.options.display.float_format = '{:10,.3f}'.format\n",
      "    \n",
      "    tmp = plt.hist(Y_test_predicted_prob[:,1],20)\n",
      "    plt.xlabel('Probability for 1')\n",
      "    plt.ylabel('Number of users with probability')\n",
      "    print tmp\n",
      "    \n",
      "def printConfusionMatrix(model, threshold, X_train, X_test, Y_train, Y_test):\n",
      "    \n",
      "    model.fit(X_train,Y_train) \n",
      "    y_pred = predictWithThreshhold(model, threshold, X_test)\n",
      "    \n",
      "    print metrics.confusion_matrix(Y_test, y_pred)   \n",
      "    \n",
      "def predictWithThreshhold(model, threshhold, x_test):\n",
      "    \n",
      "    prob = model.predict_proba(x_test)\n",
      "    return map(lambda x: 1 if x[1] > threshhold else 0, prob)\n",
      "\n"
     ],
     "language": "python",
     "metadata": {},
     "outputs": [],
     "prompt_number": 5
    },
    {
     "cell_type": "code",
     "collapsed": false,
     "input": [],
     "language": "python",
     "metadata": {},
     "outputs": []
    }
   ],
   "metadata": {}
  }
 ]
}